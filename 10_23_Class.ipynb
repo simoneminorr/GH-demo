{
  "nbformat": 4,
  "nbformat_minor": 0,
  "metadata": {
    "colab": {
      "provenance": [],
      "authorship_tag": "ABX9TyOxNlDpJk4Ao3NR7GemzrC8",
      "include_colab_link": true
    },
    "kernelspec": {
      "name": "python3",
      "display_name": "Python 3"
    },
    "language_info": {
      "name": "python"
    }
  },
  "cells": [
    {
      "cell_type": "markdown",
      "metadata": {
        "id": "view-in-github",
        "colab_type": "text"
      },
      "source": [
        "<a href=\"https://colab.research.google.com/github/simoneminorr/GH-demo/blob/main/10_23_Class.ipynb\" target=\"_parent\"><img src=\"https://colab.research.google.com/assets/colab-badge.svg\" alt=\"Open In Colab\"/></a>"
      ]
    },
    {
      "cell_type": "markdown",
      "source": [
        "Remove Data"
      ],
      "metadata": {
        "id": "8tKAlMpK60UW"
      }
    },
    {
      "cell_type": "code",
      "execution_count": 1,
      "metadata": {
        "colab": {
          "base_uri": "https://localhost:8080/"
        },
        "id": "co5sCaL36ztF",
        "outputId": "117bf6c2-8071-48de-e64b-856c3db3b16b"
      },
      "outputs": [
        {
          "output_type": "stream",
          "name": "stdout",
          "text": [
            "Requirement already satisfied: requests in /usr/local/lib/python3.10/dist-packages (2.31.0)\n",
            "Requirement already satisfied: charset-normalizer<4,>=2 in /usr/local/lib/python3.10/dist-packages (from requests) (3.3.0)\n",
            "Requirement already satisfied: idna<4,>=2.5 in /usr/local/lib/python3.10/dist-packages (from requests) (3.4)\n",
            "Requirement already satisfied: urllib3<3,>=1.21.1 in /usr/local/lib/python3.10/dist-packages (from requests) (2.0.7)\n",
            "Requirement already satisfied: certifi>=2017.4.17 in /usr/local/lib/python3.10/dist-packages (from requests) (2023.7.22)\n",
            "\u001b[31mERROR: Operation cancelled by user\u001b[0m\u001b[31m\n",
            "\u001b[0m"
          ]
        }
      ],
      "source": [
        "!pip install requests #can always run a shell command if you need to import a package"
      ]
    },
    {
      "cell_type": "code",
      "source": [
        "import requests #name an object anything\n",
        "response = requests.get('https://ids.pods.uvarc.io/')\n",
        "print(response)\n",
        "print(response.text)\n",
        "print(response.status_code)\n",
        "print(response.encoding)\n",
        "print(response.headers)\n",
        "print(response.raw)\n",
        "print(response.content)"
      ],
      "metadata": {
        "colab": {
          "base_uri": "https://localhost:8080/"
        },
        "id": "yTzeeLJb665M",
        "outputId": "c773f04f-557b-41d8-89d7-53c5552fa44c"
      },
      "execution_count": 5,
      "outputs": [
        {
          "output_type": "stream",
          "name": "stdout",
          "text": [
            "<Response [200]>\n",
            "{\"id\":\"yqmrdkdt\"}\n",
            "200\n",
            "utf-8\n",
            "{'Server': 'nginx/1.21.6', 'Date': 'Mon, 23 Oct 2023 14:37:33 GMT', 'Content-Type': 'application/json', 'Content-Length': '17', 'Connection': 'keep-alive'}\n",
            "<urllib3.response.HTTPResponse object at 0x782bf704f0a0>\n",
            "b'{\"id\":\"yqmrdkdt\"}'\n"
          ]
        }
      ]
    },
    {
      "cell_type": "code",
      "source": [
        "import requests\n",
        "\n",
        "#Make a GET requests\n",
        "response= requests.get('https://ids.pods.uvarc.io/id/18')\n",
        "\n",
        "#Vhevk the response status code\n",
        "if response.status_code == 200:\n",
        "  print(\"Success\")\n",
        "else:\n",
        "  print(\"Failure\")\n",
        "\n",
        "#Get the response content\n",
        "content= response.content\n",
        "\n",
        "#Decode the response content\n",
        "text= content.decode('utf-8')\n",
        "\n",
        "#print the response content\n",
        "print(text)"
      ],
      "metadata": {
        "colab": {
          "base_uri": "https://localhost:8080/"
        },
        "id": "_Nsd3YCF7jg4",
        "outputId": "ae30c455-6a32-4f7d-f988-c5acc185a066"
      },
      "execution_count": 6,
      "outputs": [
        {
          "output_type": "stream",
          "name": "stdout",
          "text": [
            "Success\n",
            "{\"id\":\"wevushpni81nqh9ukb\"}\n"
          ]
        }
      ]
    },
    {
      "cell_type": "code",
      "source": [
        "import requests\n",
        "import json\n",
        "\n",
        "response= requests.get('https://ids.pods.uvarc.io/id/18')\n",
        "data= json.loads(response.text)\n",
        "print(data['id'])"
      ],
      "metadata": {
        "colab": {
          "base_uri": "https://localhost:8080/"
        },
        "id": "HSCNmT1K9VcC",
        "outputId": "6b8cc4e5-c5a9-439b-cbcc-34da4c6429b9"
      },
      "execution_count": 9,
      "outputs": [
        {
          "output_type": "stream",
          "name": "stdout",
          "text": [
            "h0yle2fslbhzpp36e9\n"
          ]
        }
      ]
    }
  ]
}