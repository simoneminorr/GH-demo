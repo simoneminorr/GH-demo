{
  "nbformat": 4,
  "nbformat_minor": 0,
  "metadata": {
    "colab": {
      "provenance": [],
      "authorship_tag": "ABX9TyNo47vesT0zAsqhCz9Kn2Nf",
      "include_colab_link": true
    },
    "kernelspec": {
      "name": "python3",
      "display_name": "Python 3"
    },
    "language_info": {
      "name": "python"
    }
  },
  "cells": [
    {
      "cell_type": "markdown",
      "metadata": {
        "id": "view-in-github",
        "colab_type": "text"
      },
      "source": [
        "<a href=\"https://colab.research.google.com/github/simoneminorr/GH-demo/blob/main/10_13_Practice_.ipynb\" target=\"_parent\"><img src=\"https://colab.research.google.com/assets/colab-badge.svg\" alt=\"Open In Colab\"/></a>"
      ]
    },
    {
      "cell_type": "code",
      "execution_count": 1,
      "metadata": {
        "colab": {
          "base_uri": "https://localhost:8080/"
        },
        "id": "ncxmAtUBV2cT",
        "outputId": "67ed5e39-2d6b-4a36-ced4-fb00bc5d0c20"
      },
      "outputs": [
        {
          "output_type": "stream",
          "name": "stdout",
          "text": [
            "121\n",
            "2\n",
            "12322\n",
            "4324\n",
            "5323\n",
            "32423\n",
            "33\n"
          ]
        }
      ],
      "source": [
        "mylist= [121,2,12322,4324,5323,32423,33]\n",
        "for something in mylist: #could replace something with anything; thing a thing, an item\n",
        "  print(something) #if you want the one element from the list"
      ]
    },
    {
      "cell_type": "code",
      "source": [
        "barbie = [\"barbie\", \"ken\", \"issa rae\", \"doll\", \"pink\"]\n",
        "for things in barbie:\n",
        "  if things == 'ken' : #ken can be in double or single quotes\n",
        "    print(\"you are kenough\")\n",
        "  else:\n",
        "    print(things)"
      ],
      "metadata": {
        "colab": {
          "base_uri": "https://localhost:8080/"
        },
        "id": "LJ1AuEWbWeJ1",
        "outputId": "9b6b2914-4493-48e6-e3b9-a946dda511f0"
      },
      "execution_count": 8,
      "outputs": [
        {
          "output_type": "stream",
          "name": "stdout",
          "text": [
            "barbie\n",
            "you are kenough\n",
            "issa rae\n",
            "doll\n",
            "pink\n"
          ]
        }
      ]
    },
    {
      "cell_type": "code",
      "source": [
        "barbie = [\"barbie\", \"ken\", \"issa rae\", \"doll\", \"pink\"]\n",
        "for things in barbie:\n",
        "  if things == 'ken' :\n",
        "    # print(\"you are kenough\")\n",
        "    break #stops looping when it reaches a certain variable\n",
        "  else:\n",
        "    print(things)"
      ],
      "metadata": {
        "colab": {
          "base_uri": "https://localhost:8080/"
        },
        "id": "_jauNLRtXpBc",
        "outputId": "b2ecebe3-0752-44c0-9d8e-cf6821562e16"
      },
      "execution_count": 10,
      "outputs": [
        {
          "output_type": "stream",
          "name": "stdout",
          "text": [
            "barbie\n"
          ]
        }
      ]
    },
    {
      "cell_type": "code",
      "source": [
        "barbie = [\"barbie\", \"ken\", \"issa rae\", \"doll\", \"pink\"]\n",
        "for things in barbie:\n",
        "  if things == 'ken' :\n",
        "    # print(\"you are kenough\")\n",
        "    continue #if you want to ommit something\n",
        "  else:\n",
        "    print(things)"
      ],
      "metadata": {
        "colab": {
          "base_uri": "https://localhost:8080/"
        },
        "id": "LvhZbc5rXa5i",
        "outputId": "a1ca3716-af12-4806-9fb4-7b65e493d32b"
      },
      "execution_count": 9,
      "outputs": [
        {
          "output_type": "stream",
          "name": "stdout",
          "text": [
            "barbie\n",
            "issa rae\n",
            "doll\n",
            "pink\n"
          ]
        }
      ]
    },
    {
      "cell_type": "code",
      "source": [
        "barbie = [\"barbie\", \"ken\", \"issa rae\", \"doll\", \"pink\"]\n",
        "for things in barbie:\n",
        "  if things == 'ken' :\n",
        "    continue\n",
        "  elif things == \"barbie\": #be sure to put \"things\" not the name of this list\n",
        "    print(\"love at first sight\")\n",
        "  else:\n",
        "    print(things)"
      ],
      "metadata": {
        "colab": {
          "base_uri": "https://localhost:8080/"
        },
        "id": "zswsqPDcXzEh",
        "outputId": "1c29669a-7862-43f9-cb62-a2ac60c2c32e"
      },
      "execution_count": 14,
      "outputs": [
        {
          "output_type": "stream",
          "name": "stdout",
          "text": [
            "love at first sight\n",
            "issa rae\n",
            "doll\n",
            "pink\n"
          ]
        }
      ]
    },
    {
      "cell_type": "code",
      "source": [
        "barbie = [\"barbie\", \"ken\", \"issa rae\", \"doll\", \"pink\"]\n",
        "for things in barbie:\n",
        "  if things == 'ken' :\n",
        "    print(things.upper())\n",
        "    continue\n",
        "  elif things == \"barbie\": #be sure to put \"things\" not the name of this list\n",
        "    print(\"love at first sight\")\n",
        "  else:\n",
        "    print(things)"
      ],
      "metadata": {
        "colab": {
          "base_uri": "https://localhost:8080/"
        },
        "id": "R22uzirbYxF0",
        "outputId": "2790fb1a-147b-4369-d56d-1ff7cc63b45a"
      },
      "execution_count": 15,
      "outputs": [
        {
          "output_type": "stream",
          "name": "stdout",
          "text": [
            "love at first sight\n",
            "KEN\n",
            "issa rae\n",
            "doll\n",
            "pink\n"
          ]
        }
      ]
    },
    {
      "cell_type": "code",
      "source": [
        "faves= {\n",
        "    \"food\":\"pancakes\",\n",
        "    \"sport\":\"swimming\", #commas at the end of each key:value\n",
        "    \"color\":\"yellow\",\n",
        "    \"city\":\"Philly\",\n",
        "    \"hobbie\": \"ceramics\"\n",
        "} #dictionary is made up of keys and values\n",
        "faves"
      ],
      "metadata": {
        "colab": {
          "base_uri": "https://localhost:8080/"
        },
        "id": "RlpeDpLpY6vh",
        "outputId": "5fdbb01b-381b-4082-864f-6a95ff79a1a2"
      },
      "execution_count": 17,
      "outputs": [
        {
          "output_type": "execute_result",
          "data": {
            "text/plain": [
              "{'food': 'pancakes',\n",
              " 'sport': 'swimming',\n",
              " 'color': 'yellow',\n",
              " 'city': 'Philly',\n",
              " 'hobbie': 'ceramics'}"
            ]
          },
          "metadata": {},
          "execution_count": 17
        }
      ]
    },
    {
      "cell_type": "code",
      "source": [
        "faves.keys()\n",
        "#output is a list of the keys; comes back in square brackets so you know it is a list"
      ],
      "metadata": {
        "colab": {
          "base_uri": "https://localhost:8080/"
        },
        "id": "kIfD70mCZ_qn",
        "outputId": "84b339fe-8d98-44a3-876f-f79ee7980cf4"
      },
      "execution_count": 20,
      "outputs": [
        {
          "output_type": "execute_result",
          "data": {
            "text/plain": [
              "dict_keys(['food', 'sport', 'color', 'city', 'hobbie'])"
            ]
          },
          "metadata": {},
          "execution_count": 20
        }
      ]
    },
    {
      "cell_type": "code",
      "source": [
        "faves['hobbie']"
      ],
      "metadata": {
        "colab": {
          "base_uri": "https://localhost:8080/",
          "height": 35
        },
        "id": "vHgqdIcUa2Of",
        "outputId": "b7ac1720-5401-4b90-fa10-4a78274b84db"
      },
      "execution_count": 21,
      "outputs": [
        {
          "output_type": "execute_result",
          "data": {
            "text/plain": [
              "'ceramics'"
            ],
            "application/vnd.google.colaboratory.intrinsic+json": {
              "type": "string"
            }
          },
          "metadata": {},
          "execution_count": 21
        }
      ]
    },
    {
      "cell_type": "code",
      "source": [
        "for fave in faves:\n",
        "  print(fave)\n",
        "  #outputs each key row by row"
      ],
      "metadata": {
        "colab": {
          "base_uri": "https://localhost:8080/"
        },
        "id": "COOS59Uaa99E",
        "outputId": "2eec9032-8e71-4b3a-896f-7061a27827d2"
      },
      "execution_count": 23,
      "outputs": [
        {
          "output_type": "stream",
          "name": "stdout",
          "text": [
            "food\n",
            "sport\n",
            "color\n",
            "city\n",
            "hobbie\n"
          ]
        }
      ]
    },
    {
      "cell_type": "code",
      "source": [
        "for fave in faves:\n",
        "  print(faves[fave]) #how to fetch a value from a dictionary, you pass in key name in brackets\n",
        "  #output is just the ket values"
      ],
      "metadata": {
        "colab": {
          "base_uri": "https://localhost:8080/"
        },
        "id": "rcacJnQsbMoV",
        "outputId": "b33756ab-61fb-40fb-a3a3-f5bedb26dff9"
      },
      "execution_count": 24,
      "outputs": [
        {
          "output_type": "stream",
          "name": "stdout",
          "text": [
            "pancakes\n",
            "swimming\n",
            "yellow\n",
            "Philly\n",
            "ceramics\n"
          ]
        }
      ]
    },
    {
      "cell_type": "code",
      "source": [
        "#nice way to get keys and values at the same time\n",
        "for key, value in faves.items(): #.items() asks python to look at each item ; without this it couldn't decipher keys and values\n",
        "#key= first variable in dictionary comes before comma, value= comes after comma and this is the value in a dictionary\n",
        "  print(key)\n",
        "  print(value)"
      ],
      "metadata": {
        "colab": {
          "base_uri": "https://localhost:8080/"
        },
        "id": "PG5kPJ3RbgpQ",
        "outputId": "572cdc5e-8f8d-4c8b-88cb-a6b7e9e4832e"
      },
      "execution_count": 27,
      "outputs": [
        {
          "output_type": "stream",
          "name": "stdout",
          "text": [
            "food\n",
            "pancakes\n",
            "sport\n",
            "swimming\n",
            "color\n",
            "yellow\n",
            "city\n",
            "Philly\n",
            "hobbie\n",
            "ceramics\n"
          ]
        }
      ]
    },
    {
      "cell_type": "code",
      "source": [
        "for key, value in faves.items():\n",
        "  print(key,'-->', value)"
      ],
      "metadata": {
        "colab": {
          "base_uri": "https://localhost:8080/"
        },
        "id": "zGE3TfwJb4iZ",
        "outputId": "1fe2d595-7833-43e8-a936-1848bdde408d"
      },
      "execution_count": 28,
      "outputs": [
        {
          "output_type": "stream",
          "name": "stdout",
          "text": [
            "food --> pancakes\n",
            "sport --> swimming\n",
            "color --> yellow\n",
            "city --> Philly\n",
            "hobbie --> ceramics\n"
          ]
        }
      ]
    },
    {
      "cell_type": "code",
      "source": [
        "mytupe= (\"squirrels\",\"rabbits\", \"beavers\",\"opposums\",\"foxes\",\"wolves\",\"sheep\") #tupe of animals is immutable (cannot be changed)"
      ],
      "metadata": {
        "id": "6VMxrri0czoG"
      },
      "execution_count": 29,
      "outputs": []
    },
    {
      "cell_type": "code",
      "source": [
        "mytupe"
      ],
      "metadata": {
        "colab": {
          "base_uri": "https://localhost:8080/"
        },
        "id": "zacMByVQdGrP",
        "outputId": "aeba299a-24ee-4df9-cad6-f2ec62add8b7"
      },
      "execution_count": 30,
      "outputs": [
        {
          "output_type": "execute_result",
          "data": {
            "text/plain": [
              "('squirrels', 'rabbits', 'beavers', 'opposums', 'foxes', 'wolves', 'sheep')"
            ]
          },
          "metadata": {},
          "execution_count": 30
        }
      ]
    },
    {
      "cell_type": "code",
      "source": [
        "for thing in mytupe:\n",
        "  print(thing)"
      ],
      "metadata": {
        "colab": {
          "base_uri": "https://localhost:8080/"
        },
        "id": "s7QzlJhpdJi9",
        "outputId": "862e4556-aa5f-45e5-d347-fac9d31cb38e"
      },
      "execution_count": 31,
      "outputs": [
        {
          "output_type": "stream",
          "name": "stdout",
          "text": [
            "squirrels\n",
            "rabbits\n",
            "beavers\n",
            "opposums\n",
            "foxes\n",
            "wolves\n",
            "sheep\n"
          ]
        }
      ]
    },
    {
      "cell_type": "code",
      "source": [
        "for thing in mytupe:\n",
        "  if thing != 'opposums': #searching for things that are not opposums becuase we're using the not equal to comparative sign\n",
        "    print(thing)\n",
        "  elif(thing == 'rabbits') or (thing == 'sheep'):\n",
        "    print(\"I have rabbits or sheep in my tuple\") #if statements are ran in order, not going to catch rabbits or sheeps because the first command applies to get the whole list and zaps the following logic\n",
        "  else:\n",
        "    continue"
      ],
      "metadata": {
        "colab": {
          "base_uri": "https://localhost:8080/"
        },
        "id": "hGSX7Y13dQ6Q",
        "outputId": "99d57433-a655-45db-c048-58dc0fd60062"
      },
      "execution_count": 34,
      "outputs": [
        {
          "output_type": "stream",
          "name": "stdout",
          "text": [
            "squirrels\n",
            "rabbits\n",
            "beavers\n",
            "foxes\n",
            "wolves\n",
            "sheep\n"
          ]
        }
      ]
    },
    {
      "cell_type": "code",
      "source": [
        "for thing in mytupe:\n",
        "  if (thing == 'rabbits') or (thing == 'sheep'):\n",
        "    print(\"I have rabbits or sheep in my tuple\")\n",
        "  elif (thing != 'opposums'):\n",
        "   print(thing)\n",
        "  else:\n",
        "    continue\n",
        "#reversing order of if and elif allows the later things that couldn't be applied to be applied"
      ],
      "metadata": {
        "colab": {
          "base_uri": "https://localhost:8080/"
        },
        "id": "cyY1DT6AepgT",
        "outputId": "1021b65b-74cd-4072-c55c-bb4dbad76bde"
      },
      "execution_count": 35,
      "outputs": [
        {
          "output_type": "stream",
          "name": "stdout",
          "text": [
            "squirrels\n",
            "I have rabbits or sheep in my tuple\n",
            "beavers\n",
            "foxes\n",
            "wolves\n",
            "I have rabbits or sheep in my tuple\n"
          ]
        }
      ]
    },
    {
      "cell_type": "code",
      "source": [
        "for thing in mytupe:\n",
        "  if thing == 'opposums':\n",
        "    continue"
      ],
      "metadata": {
        "id": "cNiJos6XeYwm"
      },
      "execution_count": null,
      "outputs": []
    }
  ]
}