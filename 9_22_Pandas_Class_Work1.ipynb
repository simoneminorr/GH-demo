{
  "nbformat": 4,
  "nbformat_minor": 0,
  "metadata": {
    "colab": {
      "provenance": [],
      "authorship_tag": "ABX9TyMpIdrtEQE5+9tmqz4Vg4r3",
      "include_colab_link": true
    },
    "kernelspec": {
      "name": "python3",
      "display_name": "Python 3"
    },
    "language_info": {
      "name": "python"
    }
  },
  "cells": [
    {
      "cell_type": "markdown",
      "metadata": {
        "id": "view-in-github",
        "colab_type": "text"
      },
      "source": [
        "<a href=\"https://colab.research.google.com/github/simoneminorr/GH-demo/blob/main/9_22_Pandas_Class_Work1.ipynb\" target=\"_parent\"><img src=\"https://colab.research.google.com/assets/colab-badge.svg\" alt=\"Open In Colab\"/></a>"
      ]
    },
    {
      "cell_type": "code",
      "execution_count": 32,
      "metadata": {
        "id": "mQ4rwmAHO5jf"
      },
      "outputs": [],
      "source": [
        "import numpy as np\n",
        "import pandas as pd\n",
        "import matplotlib.pyplot as plt #(library.class)\n",
        "\n",
        "%matplotlib inline\n",
        "#to give us our plot in lines"
      ]
    },
    {
      "cell_type": "code",
      "source": [
        "mock_data = pd.read_csv(\"MOCK_DATA.csv\")\n"
      ],
      "metadata": {
        "id": "5cZTA0txPfWt"
      },
      "execution_count": 35,
      "outputs": []
    },
    {
      "cell_type": "code",
      "source": [
        "mock_data.info"
      ],
      "metadata": {
        "id": "KmX71r4wTlzo"
      },
      "execution_count": null,
      "outputs": []
    },
    {
      "cell_type": "code",
      "source": [
        "mock_data.index\n",
        "#outputs \"RangeIndex (start=0, stop= 1000, step=1)\" there is 1001 columns because we included a header"
      ],
      "metadata": {
        "id": "lMnjG3uzTvMH"
      },
      "execution_count": null,
      "outputs": []
    },
    {
      "cell_type": "code",
      "source": [
        "mock_data.head()\n",
        "#the display is a default 5 records in pandas"
      ],
      "metadata": {
        "id": "kMC02h-lUZKH"
      },
      "execution_count": null,
      "outputs": []
    },
    {
      "cell_type": "code",
      "source": [
        "mock_data.head[1]"
      ],
      "metadata": {
        "id": "P9MqE_qKUfov"
      },
      "execution_count": null,
      "outputs": []
    },
    {
      "cell_type": "code",
      "source": [
        "#grab a specific row from a df\n",
        "mock_data.lock[9]"
      ],
      "metadata": {
        "id": "pE4RfQ7FTbJ2"
      },
      "execution_count": null,
      "outputs": []
    },
    {
      "cell_type": "code",
      "source": [
        "mock_data.describe()\n",
        "#simple statistics"
      ],
      "metadata": {
        "id": "bBN43KLiThxv"
      },
      "execution_count": null,
      "outputs": []
    },
    {
      "cell_type": "code",
      "source": [
        "#get the columns from the df\n",
        "mock_data.columns\n",
        "#get a list output with square brackets"
      ],
      "metadata": {
        "id": "8yDZLsZ7UHFf"
      },
      "execution_count": null,
      "outputs": []
    },
    {
      "cell_type": "code",
      "source": [
        "mock_data.dtypes\n",
        "#should only have strings(it recognizes them as objects) and integers in this examples"
      ],
      "metadata": {
        "id": "I1SFlEluUjDP"
      },
      "execution_count": null,
      "outputs": []
    },
    {
      "cell_type": "code",
      "source": [
        "mock_data = mock_data.rename (columns={\"first_name\":\"fname\", \"last_name\":\"lname\"})\n",
        "#call a new data set the exact same thing so we are going to overwrite the last one\n",
        "#using curly brackets because you are passing in a dictionary: key is old column name and value is new name, key:value\n",
        "#when you run this nothing will come out because you are altering the names but not calling for them\n",
        "mock_data.head(5)"
      ],
      "metadata": {
        "id": "qeyY8GkvUumn"
      },
      "execution_count": null,
      "outputs": []
    },
    {
      "cell_type": "code",
      "source": [
        "mock_data['fname']"
      ],
      "metadata": {
        "id": "UDHOFZ3hVyBN"
      },
      "execution_count": null,
      "outputs": []
    },
    {
      "cell_type": "code",
      "source": [
        "mock_data[['fname','lname']]\n",
        "#needs two square brackets\n",
        "#it is colab that is neatening this up into a table"
      ],
      "metadata": {
        "id": "CNYNqctLWQ_7"
      },
      "execution_count": null,
      "outputs": []
    },
    {
      "cell_type": "code",
      "source": [
        "pd.value_counts(mock_data['gender']).plot.bar()\n",
        "#got a value count for a particular data and called for all the values to be plotted\n",
        "#function of pandas we are \"grabbing\""
      ],
      "metadata": {
        "id": "vnh-HLE7Wj4_"
      },
      "execution_count": null,
      "outputs": []
    },
    {
      "cell_type": "code",
      "source": [
        "mock_data.groupby(['gender'])['age'].mean()"
      ],
      "metadata": {
        "id": "JvS2FT40Xdzr"
      },
      "execution_count": null,
      "outputs": []
    }
  ]
}