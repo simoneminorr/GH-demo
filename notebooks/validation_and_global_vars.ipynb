{
  "nbformat": 4,
  "nbformat_minor": 0,
  "metadata": {
    "colab": {
      "provenance": [],
      "include_colab_link": true
    },
    "kernelspec": {
      "name": "python3",
      "display_name": "Python 3"
    },
    "language_info": {
      "name": "python"
    }
  },
  "cells": [
    {
      "cell_type": "markdown",
      "metadata": {
        "id": "view-in-github",
        "colab_type": "text"
      },
      "source": [
        "<a href=\"https://colab.research.google.com/github/simoneminorr/GH-demo/blob/main/notebooks/validation_and_global_vars.ipynb\" target=\"_parent\"><img src=\"https://colab.research.google.com/assets/colab-badge.svg\" alt=\"Open In Colab\"/></a>"
      ]
    },
    {
      "cell_type": "markdown",
      "source": [
        "# Validating Parameters\n",
        "\n",
        "Python provides a way for you to define and document input parameter data types, along with return value data types.\n",
        "\n",
        "The `def` line of a function can include these elements called \"type hints\":"
      ],
      "metadata": {
        "id": "HW9uYjaRKkzS"
      }
    },
    {
      "cell_type": "code",
      "source": [
        "def add_these(var1: int, var2: int) -> int:\n",
        "  return var1 + var2"
      ],
      "metadata": {
        "id": "ToEVqMtYLtG9"
      },
      "execution_count": null,
      "outputs": []
    },
    {
      "cell_type": "markdown",
      "source": [
        "In the above example, two `int` variables are sought when consumingi the `add_these` function. Also, the return data type will be an `int`."
      ],
      "metadata": {
        "id": "dvjyzqkILyD3"
      }
    },
    {
      "cell_type": "code",
      "execution_count": null,
      "metadata": {
        "id": "lmCGo3F_Kisq",
        "colab": {
          "base_uri": "https://localhost:8080/"
        },
        "outputId": "489fca00-ce38-4f00-e907-508083d2a0b2"
      },
      "outputs": [
        {
          "output_type": "stream",
          "name": "stdout",
          "text": [
            "<class 'int'>\n",
            "<class 'int'>\n",
            "<class 'int'>\n"
          ]
        }
      ],
      "source": [
        "var1 = 14\n",
        "var2 = 16\n",
        "\n",
        "# verify the type of our two vars\n",
        "print(type(var1))\n",
        "print(type(var2))\n",
        "\n",
        "# verify the type of what is returned\n",
        "print(type(add_these(var1,var2)))"
      ]
    },
    {
      "cell_type": "markdown",
      "source": [
        "When working with a smart development environment (such as Jupyter Notebooks or VS Code, etc.) the environment will display the documentation as you code:"
      ],
      "metadata": {
        "id": "1SiJoLHDVtIB"
      }
    },
    {
      "cell_type": "code",
      "source": [
        "add_these"
      ],
      "metadata": {
        "id": "_qgeqZbNV38X"
      },
      "execution_count": null,
      "outputs": []
    },
    {
      "cell_type": "markdown",
      "source": [
        "## Duck Typing\n",
        "\n",
        "However, declaring and defining these data types does not mean Python will give you proper validation errors when the wrong data type is provided. (That would be incredibly helpful but is not yet present in Python 3.X.)\n",
        "\n",
        "For instance, try running this cell:"
      ],
      "metadata": {
        "id": "UeHkL6DBLSiC"
      }
    },
    {
      "cell_type": "code",
      "source": [
        "var1 = 7\n",
        "var2 = \"charlottesville\"\n",
        "\n",
        "add_these(var1, var2)"
      ],
      "metadata": {
        "colab": {
          "base_uri": "https://localhost:8080/",
          "height": 280
        },
        "id": "3MGejSVmLnYn",
        "outputId": "ef1647eb-ba0f-4b79-dbbb-9aee6405adc2"
      },
      "execution_count": null,
      "outputs": [
        {
          "output_type": "error",
          "ename": "TypeError",
          "evalue": "ignored",
          "traceback": [
            "\u001b[0;31m---------------------------------------------------------------------------\u001b[0m",
            "\u001b[0;31mTypeError\u001b[0m                                 Traceback (most recent call last)",
            "\u001b[0;32m<ipython-input-2-783b6aa79096>\u001b[0m in \u001b[0;36m<cell line: 4>\u001b[0;34m()\u001b[0m\n\u001b[1;32m      2\u001b[0m \u001b[0mvar2\u001b[0m \u001b[0;34m=\u001b[0m \u001b[0;34m\"charlottesville\"\u001b[0m\u001b[0;34m\u001b[0m\u001b[0;34m\u001b[0m\u001b[0m\n\u001b[1;32m      3\u001b[0m \u001b[0;34m\u001b[0m\u001b[0m\n\u001b[0;32m----> 4\u001b[0;31m \u001b[0madd_these\u001b[0m\u001b[0;34m(\u001b[0m\u001b[0mvar1\u001b[0m\u001b[0;34m,\u001b[0m \u001b[0mvar2\u001b[0m\u001b[0;34m)\u001b[0m\u001b[0;34m\u001b[0m\u001b[0;34m\u001b[0m\u001b[0m\n\u001b[0m",
            "\u001b[0;32m<ipython-input-1-ac58abc2cdc5>\u001b[0m in \u001b[0;36madd_these\u001b[0;34m(var1, var2)\u001b[0m\n\u001b[1;32m      1\u001b[0m \u001b[0;32mdef\u001b[0m \u001b[0madd_these\u001b[0m\u001b[0;34m(\u001b[0m\u001b[0mvar1\u001b[0m\u001b[0;34m:\u001b[0m \u001b[0mint\u001b[0m\u001b[0;34m,\u001b[0m \u001b[0mvar2\u001b[0m\u001b[0;34m:\u001b[0m \u001b[0mint\u001b[0m\u001b[0;34m)\u001b[0m \u001b[0;34m->\u001b[0m \u001b[0mint\u001b[0m\u001b[0;34m:\u001b[0m\u001b[0;34m\u001b[0m\u001b[0;34m\u001b[0m\u001b[0m\n\u001b[0;32m----> 2\u001b[0;31m   \u001b[0;32mreturn\u001b[0m \u001b[0mvar1\u001b[0m \u001b[0;34m+\u001b[0m \u001b[0mvar2\u001b[0m\u001b[0;34m\u001b[0m\u001b[0;34m\u001b[0m\u001b[0m\n\u001b[0m",
            "\u001b[0;31mTypeError\u001b[0m: unsupported operand type(s) for +: 'int' and 'str'"
          ]
        }
      ]
    },
    {
      "cell_type": "markdown",
      "source": [
        "The output error is not something helpful like \"your var2 is not an int!\". Instead you get a TypeError that the code cannot add an int and a string. This is a normal error that would occur even if you did not declare data types in the function def line.\n",
        "\n",
        "**Duck Typing**\n",
        "\n",
        "> Duck Typing is a term commonly related to dynamically typed programming languages and polymorphism. The idea behind this principle is that the code itself does not care about whether an object is a duck, but instead it does only care about whether it quacks. [1](https://towardsdatascience.com/duck-typing-python-7aeac97e11f8)\n",
        "\n",
        "In other words, as a dynamically typed language (that gets interpreted when it is run, not beforehand) Python attempts to interpret objects by how they work, not by a pre-declared data type.\n",
        "\n",
        "For instance, Python dynamically recognizes that when you add two integers using `+` it should perform math. But when you add two strings using `+` it recognizes that it should concatenate."
      ],
      "metadata": {
        "id": "ZXLRP2cVMF_k"
      }
    },
    {
      "cell_type": "markdown",
      "source": [
        "## Annotations\n",
        "\n",
        "However, Python does give us a way to document and verify the expected input and output data types using the built-in `.__annotations__` method for any function.\n",
        "\n",
        "Assuming the function we defined above, `add_these`, we are able to check for annotations:\n",
        "\n",
        "```\n",
        "print(add_these.__annotations__)\n",
        "```\n",
        "which gives this dict output:\n",
        "```\n",
        "{'var1': <class 'int'>, 'var2': <class 'int'>, 'return': <class 'int'>}\n",
        "```"
      ],
      "metadata": {
        "id": "-iHmozJ4NVc9"
      }
    },
    {
      "cell_type": "markdown",
      "source": [
        "## Try It Yourself\n",
        "\n",
        "In the cell below write a simple function and declare its input and output data types. Then, in subsequent cells, run the function with and without the proper input data types. Finally, call the function annotations to print the documentation for the function."
      ],
      "metadata": {
        "id": "qMgWFSuTN2Tk"
      }
    },
    {
      "cell_type": "code",
      "source": [],
      "metadata": {
        "id": "X2Rq2ouiMZFU"
      },
      "execution_count": null,
      "outputs": []
    },
    {
      "cell_type": "code",
      "source": [],
      "metadata": {
        "id": "J-c5WwbFOGNB"
      },
      "execution_count": null,
      "outputs": []
    },
    {
      "cell_type": "code",
      "source": [],
      "metadata": {
        "id": "gKEJzVjLOGgx"
      },
      "execution_count": null,
      "outputs": []
    },
    {
      "cell_type": "code",
      "source": [],
      "metadata": {
        "id": "rdX_oCo6OGwG"
      },
      "execution_count": null,
      "outputs": []
    },
    {
      "cell_type": "code",
      "source": [],
      "metadata": {
        "id": "vj9a_ZUwOHIo"
      },
      "execution_count": null,
      "outputs": []
    },
    {
      "cell_type": "markdown",
      "source": [
        "## Validating Data Types\n",
        "\n",
        "This leaves it up to the programmer to validate input data when the function is run. The smart programmer will use either `if/else` conditions to check that the proper data types have been passed into the function, or they will use `try/except/catch` error handling. (More about that later in the semester.)\n",
        "\n",
        "So we might want to fortify the `add_these` function a bit with some internal data checks:"
      ],
      "metadata": {
        "id": "4-dXOw0JP2dn"
      }
    },
    {
      "cell_type": "code",
      "source": [
        "def add_these(var1: int, var2: int) -> int:\n",
        "  if (type(var1) == int) and (type(var2) == int):\n",
        "    return var1 + var2\n",
        "  else:\n",
        "    print(\"Wrong data type. Try passing integers.\")\n",
        "\n",
        "add_these(4,\"bananas\")"
      ],
      "metadata": {
        "colab": {
          "base_uri": "https://localhost:8080/"
        },
        "id": "EAIn4xROQXOK",
        "outputId": "77c73c72-55c1-4bd7-bc8d-6e7d9506257a"
      },
      "execution_count": null,
      "outputs": [
        {
          "output_type": "stream",
          "name": "stdout",
          "text": [
            "Wrong data type. Try passing integers.\n"
          ]
        }
      ]
    },
    {
      "cell_type": "markdown",
      "source": [
        "There are more advanced ways to validate input data that are outside the scope of this course due to complexity."
      ],
      "metadata": {
        "id": "bxYt6gkFUoRg"
      }
    },
    {
      "cell_type": "markdown",
      "source": [
        "# Global Variables\n",
        "\n",
        "Just like in other programming languages, Python has a concept of \"scope\" for any variable. This refers to how accessible any variable is from inside and outside a function.\n",
        "\n",
        "When you declare and populate a variable outside of any function, **you are declaring a global variable**. This means the variable can be called from anywhere within the code - inside and outside of functions:"
      ],
      "metadata": {
        "id": "SsOsarTZOHi1"
      }
    },
    {
      "cell_type": "code",
      "source": [
        "xy = 17\n",
        "\n",
        "def print_the_global_var():\n",
        "  print(xy)\n",
        "\n",
        "print_the_global_var()"
      ],
      "metadata": {
        "colab": {
          "base_uri": "https://localhost:8080/"
        },
        "id": "DAZhshagRrox",
        "outputId": "1f966fda-c6a0-46a8-d4f9-6d69bd289045"
      },
      "execution_count": null,
      "outputs": [
        {
          "output_type": "stream",
          "name": "stdout",
          "text": [
            "17\n"
          ]
        }
      ]
    },
    {
      "cell_type": "markdown",
      "source": [
        "A **private variable** is one declared and populated within a function. By default, it cannot be called from outside the function itself. This is because it lives and dies quickly within the execution of the function, and does not exist beyond it."
      ],
      "metadata": {
        "id": "aqpXwo0rR6DZ"
      }
    },
    {
      "cell_type": "code",
      "source": [
        "def print_a_private_var():\n",
        "  zz = \"I like chocolate\"\n",
        "\n",
        "print_a_private_var()\n",
        "print(zz)"
      ],
      "metadata": {
        "colab": {
          "base_uri": "https://localhost:8080/",
          "height": 210
        },
        "id": "_eszFTlwSGWq",
        "outputId": "c523e405-04b9-402a-f4ce-32769e36bb0f"
      },
      "execution_count": null,
      "outputs": [
        {
          "output_type": "error",
          "ename": "NameError",
          "evalue": "ignored",
          "traceback": [
            "\u001b[0;31m---------------------------------------------------------------------------\u001b[0m",
            "\u001b[0;31mNameError\u001b[0m                                 Traceback (most recent call last)",
            "\u001b[0;32m<ipython-input-43-1a9cbb092b83>\u001b[0m in \u001b[0;36m<cell line: 5>\u001b[0;34m()\u001b[0m\n\u001b[1;32m      3\u001b[0m \u001b[0;34m\u001b[0m\u001b[0m\n\u001b[1;32m      4\u001b[0m \u001b[0mprint_a_private_var\u001b[0m\u001b[0;34m(\u001b[0m\u001b[0;34m)\u001b[0m\u001b[0;34m\u001b[0m\u001b[0;34m\u001b[0m\u001b[0m\n\u001b[0;32m----> 5\u001b[0;31m \u001b[0mprint\u001b[0m\u001b[0;34m(\u001b[0m\u001b[0mzz\u001b[0m\u001b[0;34m)\u001b[0m\u001b[0;34m\u001b[0m\u001b[0;34m\u001b[0m\u001b[0m\n\u001b[0m",
            "\u001b[0;31mNameError\u001b[0m: name 'zz' is not defined"
          ]
        }
      ]
    },
    {
      "cell_type": "markdown",
      "source": [
        "In order to populate a variable within a function so that it can be called from outside the function, it must be defined as `global`:"
      ],
      "metadata": {
        "id": "BmWZIyOGSWzA"
      }
    },
    {
      "cell_type": "code",
      "source": [
        "def lets_create_a_global_var():\n",
        "  global xx\n",
        "  xx = 3.1415927\n",
        "\n",
        "lets_create_a_global_var()\n",
        "print(xx)"
      ],
      "metadata": {
        "colab": {
          "base_uri": "https://localhost:8080/"
        },
        "id": "yrg1iu17SgK5",
        "outputId": "d99aa352-2af1-4769-a553-b146481a96e4"
      },
      "execution_count": null,
      "outputs": [
        {
          "output_type": "stream",
          "name": "stdout",
          "text": [
            "3.1415927\n"
          ]
        }
      ]
    },
    {
      "cell_type": "markdown",
      "source": [
        "You can also update the value of an existing variable in this way. The value of the original var gets updated throughout the code and the \"old\" value is no longer in memory."
      ],
      "metadata": {
        "id": "TFi3taJDSsCW"
      }
    },
    {
      "cell_type": "code",
      "source": [
        "mm = 2023\n",
        "\n",
        "def update_the_global():\n",
        "  global mm\n",
        "  mm = 2024\n",
        "\n",
        "update_the_global()\n",
        "print(mm)"
      ],
      "metadata": {
        "colab": {
          "base_uri": "https://localhost:8080/"
        },
        "id": "Av-4oKbMSyew",
        "outputId": "f7395497-581b-42c7-890b-62b3017637bb"
      },
      "execution_count": null,
      "outputs": [
        {
          "output_type": "stream",
          "name": "stdout",
          "text": [
            "2024\n"
          ]
        }
      ]
    }
  ]
}