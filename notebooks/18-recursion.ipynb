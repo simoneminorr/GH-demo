{
  "nbformat": 4,
  "nbformat_minor": 0,
  "metadata": {
    "colab": {
      "provenance": [],
      "include_colab_link": true
    },
    "kernelspec": {
      "name": "python3",
      "display_name": "Python 3"
    },
    "language_info": {
      "name": "python"
    }
  },
  "cells": [
    {
      "cell_type": "markdown",
      "metadata": {
        "id": "view-in-github",
        "colab_type": "text"
      },
      "source": [
        "<a href=\"https://colab.research.google.com/github/simoneminorr/GH-demo/blob/main/notebooks/18-recursion.ipynb\" target=\"_parent\"><img src=\"https://colab.research.google.com/assets/colab-badge.svg\" alt=\"Open In Colab\"/></a>"
      ]
    },
    {
      "cell_type": "markdown",
      "source": [
        "# Infinite Recursion"
      ],
      "metadata": {
        "id": "xAtCXsXQBHc6"
      }
    },
    {
      "cell_type": "code",
      "source": [
        "#recusion is when something is self-referential when a function can refer to itself\n",
        "# Infinite recursion\n",
        "\n",
        "def infinite_recursive_function():\n",
        "  infinite_recursive_function()\n",
        "\n",
        "infinite_recursive_function()"
      ],
      "metadata": {
        "id": "2rsrij9zBF3H"
      },
      "execution_count": null,
      "outputs": []
    },
    {
      "cell_type": "code",
      "source": [
        "def more_recursion(n):\n",
        "  for i in range(n):\n",
        "    print(n)\n",
        "    more_recursion(n + 1)\n",
        "#wouldn't want to do a forloop within a recursive function if you didn't want it to spin out\n",
        "more_recursion(5)\n"
      ],
      "metadata": {
        "id": "BssWbe2nCiWo"
      },
      "execution_count": null,
      "outputs": []
    },
    {
      "cell_type": "code",
      "source": [],
      "metadata": {
        "id": "qowxPtiPnRVD"
      },
      "execution_count": null,
      "outputs": []
    },
    {
      "cell_type": "markdown",
      "source": [
        "# Factorials\n",
        "\n",
        "A factorial is the product of all the positive integers less than or equal to a given integer.\n",
        "\n",
        "    4! = 4 × 3 × 2 × 1 = 24\n",
        "\n",
        "This sort of repetitive calculation works well with recursion, since it's always essentially the same process; the only change is the starting number."
      ],
      "metadata": {
        "id": "tjgjGtR7_Qh_"
      }
    },
    {
      "cell_type": "code",
      "execution_count": null,
      "metadata": {
        "id": "zctXDF8v_Kh2"
      },
      "outputs": [],
      "source": [
        "def factorial(n):\n",
        "  # Base case: 0! and 1! are both 1\n",
        "  if n == 0 or n == 1:\n",
        "    return 1\n",
        "  else:\n",
        "    # Recursive case: n! = n * (n-1)!\n",
        "    return n * factorial(n - 1)\n",
        "\n",
        "# Example usage:\n",
        "result = factorial(8)\n",
        "print(f\"The factorial is: {result}\")\n"
      ]
    },
    {
      "cell_type": "code",
      "source": [
        "# Or use the built-in math method:\n",
        "import math\n",
        "\n",
        "print(math.factorial(8))"
      ],
      "metadata": {
        "id": "LOab-ieZleCT"
      },
      "execution_count": null,
      "outputs": []
    },
    {
      "cell_type": "markdown",
      "source": [
        "this is where recursion is useful because there is a releative limit and it self-referential and it is more effective than a forloop"
      ],
      "metadata": {
        "id": "C-OYa5gDmngU"
      }
    },
    {
      "cell_type": "markdown",
      "source": [
        "# Fibonacci Sequence\n",
        "\n",
        "A Fibonacci sequence is a series of numbers where each number is the sum of the two previous numbers. The sequence starts with 0 and 1, and then continues with 1, 2, 3, 5, 8, 13, 21, and so on."
      ],
      "metadata": {
        "id": "XLCl3HgM_TWe"
      }
    },
    {
      "cell_type": "code",
      "source": [
        "def fibonacci(n):\n",
        "  # Base cases: F(0) = 0, F(1) = 1\n",
        "  if n == 0:\n",
        "    return 0\n",
        "  elif n == 1:\n",
        "    return 1\n",
        "  else:\n",
        "    # Recursive case: F(n) = F(n-1) + F(n-2)\n",
        "    return fibonacci(n - 1) + fibonacci(n - 2)\n",
        "\n",
        "# Example usage:\n",
        "for i in range(20):\n",
        "  print(f\"Fibonacci({i}) = {fibonacci(i)}\")\n"
      ],
      "metadata": {
        "id": "j1JeYYEz_LrV"
      },
      "execution_count": null,
      "outputs": []
    },
    {
      "cell_type": "code",
      "source": [
        "fiblist = []\n",
        "\n",
        "def fibonacci(n):\n",
        "  # Base cases: F(0) = 0, F(1) = 1\n",
        "  if n == 0:\n",
        "    return 0\n",
        "  elif n == 1:\n",
        "    return 1\n",
        "  else:\n",
        "    # Recursive case: F(n) = F(n-1) + F(n-2)\n",
        "    return fibonacci(n - 1) + fibonacci(n - 2) #calling fibonacci back to itself\n",
        "\n",
        "# Example usage:\n",
        "for i in range(20):\n",
        "  print(f\"Fibonacci({i}) = {fibonacci(i)}\") #without the print it just places the values in the list\n",
        "  fiblist.append(fibonacci(i)) #append takes the empty list and populates it\n",
        "\n",
        "print(fiblist)"
      ],
      "metadata": {
        "id": "XaKcnTa1hZpL",
        "colab": {
          "base_uri": "https://localhost:8080/"
        },
        "outputId": "bf981c4f-a8e7-4f7e-b2ff-7211520cb381"
      },
      "execution_count": 2,
      "outputs": [
        {
          "output_type": "stream",
          "name": "stdout",
          "text": [
            "[0, 1, 1, 2, 3, 5, 8, 13, 21, 34, 55, 89, 144, 233, 377, 610, 987, 1597, 2584, 4181]\n"
          ]
        }
      ]
    },
    {
      "cell_type": "code",
      "source": [
        "import matplotlib.pyplot as plt\n",
        "\n",
        "# Create a plot of the Fibonacci numbers\n",
        "plt.plot(fiblist)\n",
        "\n",
        "# Set the title of the plot\n",
        "plt.title(\"Fibonacci Sequence\")\n",
        "\n",
        "# Set the x-axis label\n",
        "plt.xlabel(\"Index\")\n",
        "\n",
        "# Set the y-axis label\n",
        "plt.ylabel(\"Number\")\n",
        "\n",
        "# Show the plot\n",
        "plt.show()"
      ],
      "metadata": {
        "id": "LE_86rOoiJd2"
      },
      "execution_count": null,
      "outputs": []
    },
    {
      "cell_type": "markdown",
      "source": [
        "# Binary Search\n",
        "\n",
        "A binary search is a search algorithm that finds the position of a target value within a sorted array. The algorithm works by repeatedly dividing the array in half until the target value is found."
      ],
      "metadata": {
        "id": "NoP8Fy79_WKI"
      }
    },
    {
      "cell_type": "code",
      "source": [
        "def binary_search(arr, target, low, high):\n",
        "  # Base case: if low is greater than high, the target is not in the array\n",
        "  if low > high:\n",
        "    return -1\n",
        "\n",
        "  mid = (low + high) // 2\n",
        "\n",
        "  # Base case: if the middle element is the target, return its index\n",
        "  if arr[mid] == target:\n",
        "    return mid\n",
        "  elif arr[mid] > target:\n",
        "    # Recursive case: search the left half of the array\n",
        "    return binary_search(arr, target, low, mid - 1)\n",
        "  else:\n",
        "    # Recursive case: search the right half of the array\n",
        "    return binary_search(arr, target, mid + 1, high)\n",
        "\n",
        "# Example usage:\n",
        "my_list = [1, 2, 3, 4, 5, 6, 7, 8, 9]\n",
        "target_element = 6\n",
        "result = binary_search(my_list, target_element, 0, len(my_list) - 1)\n",
        "\n",
        "if result != -1:\n",
        "  print(f\"Element {target_element} found at index {result}\")\n",
        "else:\n",
        "  print(f\"Element {target_element} not found in the list.\")\n",
        "\n",
        "#can basically search for things really quickly ; honing in to find a particular view within"
      ],
      "metadata": {
        "id": "vxztkIG6_PYT"
      },
      "execution_count": null,
      "outputs": []
    },
    {
      "cell_type": "markdown",
      "source": [
        "recursion is something that you will bump into and will need to use in a special case\n",
        "forloops are super slow with thousands of objects\n",
        "recursion is more efficent"
      ],
      "metadata": {
        "id": "3XuesyE-nhvR"
      }
    }
  ]
}