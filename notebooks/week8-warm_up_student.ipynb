{
  "cells": [
    {
      "cell_type": "markdown",
      "metadata": {
        "id": "view-in-github",
        "colab_type": "text"
      },
      "source": [
        "<a href=\"https://colab.research.google.com/github/simoneminorr/GH-demo/blob/main/notebooks/week8-warm_up_student.ipynb\" target=\"_parent\"><img src=\"https://colab.research.google.com/assets/colab-badge.svg\" alt=\"Open In Colab\"/></a>"
      ]
    },
    {
      "cell_type": "markdown",
      "metadata": {
        "id": "zjanBhX9WjtJ"
      },
      "source": [
        "# Warm-up - Boolean Operators\n",
        "\n",
        "Python has THREE boolean operators, also known as \"logical\" operators:\n",
        "\n",
        "- `and`\n",
        "- `or`\n",
        "- `not`\n",
        "\n",
        "Evaluating other python expressions using these boolean operators returns a \"boolean\" reply: `True` or `False`."
      ]
    },
    {
      "cell_type": "markdown",
      "source": [
        "flow control\n",
        "key to making a working script is that you have to chain a lot of code together\n",
        "we have comparison, if & else statements, etc."
      ],
      "metadata": {
        "id": "mSoOCO88v2Mq"
      }
    },
    {
      "cell_type": "code",
      "execution_count": 1,
      "metadata": {
        "id": "5nYXTcRDWjtL"
      },
      "outputs": [],
      "source": [
        "# Define variables (defining 2 float variables)\n",
        "my_float = 18.0\n",
        "your_float = 14.0"
      ]
    },
    {
      "cell_type": "markdown",
      "metadata": {
        "id": "BL2wPegvWjtM"
      },
      "source": [
        "1. `my_float` bigger than 10 and smaller than 18?  \n",
        "(use a boolean operator)"
      ]
    },
    {
      "cell_type": "code",
      "execution_count": 2,
      "metadata": {
        "id": "UXuoQsaIWjtM",
        "outputId": "8ca47de9-9b24-43dd-c50b-cc527fdfe6b6",
        "colab": {
          "base_uri": "https://localhost:8080/"
        }
      },
      "outputs": [
        {
          "output_type": "stream",
          "name": "stdout",
          "text": [
            "False\n",
            "False\n"
          ]
        }
      ],
      "source": [
        "# is my float between 10 and 18\n",
        "print(10<my_float<18)\n",
        "#is my float greater than 10 and is my float less than 18; does it meet these 2 conditions\n",
        "print(my_float>10 and my_float<18)"
      ]
    },
    {
      "cell_type": "code",
      "source": [
        "#greater than or equal to\n",
        "print(10<my_float<=18)\n",
        "print(my_float>10 and my_float<=18)"
      ],
      "metadata": {
        "id": "RGp2RpE5xJq2",
        "outputId": "f1d474ec-7bae-4610-b896-cb9f9a5549cb",
        "colab": {
          "base_uri": "https://localhost:8080/"
        }
      },
      "execution_count": 3,
      "outputs": [
        {
          "output_type": "stream",
          "name": "stdout",
          "text": [
            "True\n",
            "True\n"
          ]
        }
      ]
    },
    {
      "cell_type": "markdown",
      "metadata": {
        "id": "VMJqD1mOWjtM"
      },
      "source": [
        "2. `my_float` smaller than 14 or bigger than 17?  \n",
        "(use a boolean operator)"
      ]
    },
    {
      "cell_type": "code",
      "execution_count": 4,
      "metadata": {
        "id": "UeSicTQuWjtM",
        "outputId": "f01adc0d-d262-4bf1-9c96-d859ac373567",
        "colab": {
          "base_uri": "https://localhost:8080/"
        }
      },
      "outputs": [
        {
          "output_type": "stream",
          "name": "stdout",
          "text": [
            "True\n"
          ]
        }
      ],
      "source": [
        "print(my_float<14 or my_float>17)"
      ]
    },
    {
      "cell_type": "code",
      "source": [
        "#notebook knows to return the result so you don't need a print\n",
        "my_float<14 or my_float>17\n",
        "#fails first condition but completes the second condition\n",
        "#only needs to meet one condition for OR; intersection\n",
        "#and is a union so both conditions must be met"
      ],
      "metadata": {
        "id": "dhWvErbdxbbI"
      },
      "execution_count": null,
      "outputs": []
    },
    {
      "cell_type": "markdown",
      "metadata": {
        "id": "eqV9yn6BWjtM"
      },
      "source": [
        "3. Double `my_float` smaller than triple `your_float`?"
      ]
    },
    {
      "cell_type": "code",
      "execution_count": 5,
      "metadata": {
        "id": "Xia2m-nfWjtM",
        "outputId": "f24da1d2-e488-4f27-ae62-5be0daf6bf71",
        "colab": {
          "base_uri": "https://localhost:8080/"
        }
      },
      "outputs": [
        {
          "output_type": "execute_result",
          "data": {
            "text/plain": [
              "True"
            ]
          },
          "metadata": {},
          "execution_count": 5
        }
      ],
      "source": [
        "my_float * 2 < your_float * 3\n",
        "#multiplication will be evaluated before greater than/less than sign"
      ]
    },
    {
      "cell_type": "code",
      "source": [
        "#== asks if two values are equal; comparison operator\n",
        "#one equal populates a variable with a value\n",
        "#not the same = False\n",
        "#the same = True\n",
        "my_float==your_float"
      ],
      "metadata": {
        "id": "1D0rj24fySWy",
        "outputId": "2600992b-7662-4910-fc3b-89bf862fa628",
        "colab": {
          "base_uri": "https://localhost:8080/"
        }
      },
      "execution_count": 6,
      "outputs": [
        {
          "output_type": "execute_result",
          "data": {
            "text/plain": [
              "False"
            ]
          },
          "metadata": {},
          "execution_count": 6
        }
      ]
    },
    {
      "cell_type": "markdown",
      "metadata": {
        "id": "EMPkl0olWjtN"
      },
      "source": [
        "4.\n",
        "`x = 8`  \n",
        "`y = 9`  \n",
        "`not(not(x < 3) and not(y > 14 or y > 10))`  \n",
        "\n",
        "---\n",
        "\n",
        "What will be the result if you execute these statements? (refrain from actually running - use your brain)   \n",
        "a. True  \n",
        "b. False  \n",
        "c. An error  \n",
        "\n",
        "*note: `not` has a higher priority than `and` and `or`; it is executed first*"
      ]
    },
    {
      "cell_type": "code",
      "execution_count": 7,
      "metadata": {
        "id": "GYRWw4EUWjtN",
        "outputId": "3cb84a96-c665-4286-e692-de09e429c309",
        "colab": {
          "base_uri": "https://localhost:8080/"
        }
      },
      "outputs": [
        {
          "output_type": "execute_result",
          "data": {
            "text/plain": [
              "False"
            ]
          },
          "metadata": {},
          "execution_count": 7
        }
      ],
      "source": [
        "#not is when you are testing for the negative case of something\n",
        "#always goes from left to right\n",
        "#not statements are evaluated first\n",
        "x=8\n",
        "y=9\n",
        "not(not(x < 3) and not(y > 14 or y > 10))"
      ]
    },
    {
      "cell_type": "markdown",
      "source": [
        "8<3 is False--> not(False is True --> not(True) is False\n",
        "9>4 is False, 9>10 is False--> False--> not(False)--> True\n",
        "False and True --> False"
      ],
      "metadata": {
        "id": "iHH6g1t8z5nG"
      }
    },
    {
      "cell_type": "code",
      "source": [
        "#only True and True gets a True output\n",
        "print(True and True)\n",
        "print(True and False)\n",
        "print(False and True)\n",
        "print(False and False)"
      ],
      "metadata": {
        "id": "clnvoVUn0Jei",
        "outputId": "b5b253e1-7b12-4f6b-efdb-171c547e5bfe",
        "colab": {
          "base_uri": "https://localhost:8080/"
        }
      },
      "execution_count": 8,
      "outputs": [
        {
          "output_type": "stream",
          "name": "stdout",
          "text": [
            "True\n",
            "False\n",
            "False\n",
            "False\n"
          ]
        }
      ]
    },
    {
      "cell_type": "code",
      "source": [
        "#if there is a True in the statement you get a True output\n",
        "print(True or True)\n",
        "print(True or False)\n",
        "print(False or True)\n",
        "print(False or False)"
      ],
      "metadata": {
        "id": "kDvHg_dm0ek6",
        "outputId": "eafb440b-6755-4ade-a70e-04aecd0cb037",
        "colab": {
          "base_uri": "https://localhost:8080/"
        }
      },
      "execution_count": 9,
      "outputs": [
        {
          "output_type": "stream",
          "name": "stdout",
          "text": [
            "True\n",
            "True\n",
            "True\n",
            "False\n"
          ]
        }
      ]
    }
  ],
  "metadata": {
    "kernelspec": {
      "display_name": "Python 3.8.9 64-bit",
      "language": "python",
      "name": "python3"
    },
    "language_info": {
      "codemirror_mode": {
        "name": "ipython",
        "version": 3
      },
      "file_extension": ".py",
      "mimetype": "text/x-python",
      "name": "python",
      "nbconvert_exporter": "python",
      "pygments_lexer": "ipython3",
      "version": "3.8.9"
    },
    "orig_nbformat": 4,
    "vscode": {
      "interpreter": {
        "hash": "31f2aee4e71d21fbe5cf8b01ff0e069b9275f58929596ceb00d14d90e3e16cd6"
      }
    },
    "colab": {
      "provenance": [],
      "include_colab_link": true
    }
  },
  "nbformat": 4,
  "nbformat_minor": 0
}