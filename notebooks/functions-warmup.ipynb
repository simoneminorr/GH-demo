{
  "nbformat": 4,
  "nbformat_minor": 0,
  "metadata": {
    "colab": {
      "provenance": [],
      "include_colab_link": true
    },
    "kernelspec": {
      "name": "python3",
      "display_name": "Python 3"
    },
    "language_info": {
      "name": "python"
    }
  },
  "cells": [
    {
      "cell_type": "markdown",
      "metadata": {
        "id": "view-in-github",
        "colab_type": "text"
      },
      "source": [
        "<a href=\"https://colab.research.google.com/github/simoneminorr/GH-demo/blob/main/notebooks/functions-warmup.ipynb\" target=\"_parent\"><img src=\"https://colab.research.google.com/assets/colab-badge.svg\" alt=\"Open In Colab\"/></a>"
      ]
    },
    {
      "cell_type": "markdown",
      "source": [
        "# Warm-Up"
      ],
      "metadata": {
        "id": "J1KpP6ms77_s"
      }
    },
    {
      "cell_type": "code",
      "execution_count": 7,
      "metadata": {
        "id": "vHvAikqF76bK"
      },
      "outputs": [],
      "source": [
        "# Write a function that takes TWO integer parameters.\n",
        "# The function should range from the first integer to the second\n",
        "# The function should then evaluate each integer and determine whether\n",
        "# it is even or odd, and print that out (for every item)\n",
        "#\n",
        "\n",
        "var1= 3\n",
        "var2= 11\n",
        "#definied it and established that two parameters are necessary to be inputted\n",
        "def even_odd_operator():\n",
        "  for i in range (start,finish): #range just lets you range from one value to another (ability to count by different numbers too)\n",
        "    if i % 2 == 0:\n",
        "     #print something\n",
        "     print(i, \"is an even number\")\n",
        "    else:\n",
        "     #print something\n",
        "     print(i, \"is an odd number\")\n",
        "\n",
        "#why would you define a structure? to be more efficent and use a function over and over"
      ]
    },
    {
      "cell_type": "code",
      "source": [
        "def even_odd_operator(start,finish): #intaking the parameters ; whatever you call it up here is what you have to call it down there\n",
        "  for i in range (start,finish): #referening values from above\n",
        "    if i % 2 == 0:\n",
        "     #print something\n",
        "     print(i, \"is an even number\")\n",
        "    else:\n",
        "     #print something\n",
        "     print(i, \"is an odd number\")"
      ],
      "metadata": {
        "id": "PGGK3L1GIb__"
      },
      "execution_count": 10,
      "outputs": []
    },
    {
      "cell_type": "code",
      "source": [
        "even_odd_operator(2,12)"
      ],
      "metadata": {
        "colab": {
          "base_uri": "https://localhost:8080/"
        },
        "id": "8gezN_ggIq4I",
        "outputId": "a47a04e8-8f86-4b88-80f1-f0564df413ae"
      },
      "execution_count": 11,
      "outputs": [
        {
          "output_type": "stream",
          "name": "stdout",
          "text": [
            "2 is an even number\n",
            "3 is an odd number\n",
            "4 is an even number\n",
            "5 is an odd number\n",
            "6 is an even number\n",
            "7 is an odd number\n",
            "8 is an even number\n",
            "9 is an odd number\n",
            "10 is an even number\n",
            "11 is an odd number\n"
          ]
        }
      ]
    }
  ]
}