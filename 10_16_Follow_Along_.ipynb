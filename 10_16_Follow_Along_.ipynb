{
  "nbformat": 4,
  "nbformat_minor": 0,
  "metadata": {
    "colab": {
      "provenance": [],
      "authorship_tag": "ABX9TyOXUln/AIKFzpDTVqIZ8bwl",
      "include_colab_link": true
    },
    "kernelspec": {
      "name": "python3",
      "display_name": "Python 3"
    },
    "language_info": {
      "name": "python"
    }
  },
  "cells": [
    {
      "cell_type": "markdown",
      "metadata": {
        "id": "view-in-github",
        "colab_type": "text"
      },
      "source": [
        "<a href=\"https://colab.research.google.com/github/simoneminorr/GH-demo/blob/main/10_16_Follow_Along_.ipynb\" target=\"_parent\"><img src=\"https://colab.research.google.com/assets/colab-badge.svg\" alt=\"Open In Colab\"/></a>"
      ]
    },
    {
      "cell_type": "markdown",
      "source": [
        "Learning Functions: Password Generator"
      ],
      "metadata": {
        "id": "8bCOuxM1zLcZ"
      }
    },
    {
      "cell_type": "code",
      "execution_count": 1,
      "metadata": {
        "id": "q-BzEvtky2FG"
      },
      "outputs": [],
      "source": [
        "#both libraries with functions associated with them\n",
        "import string #can do all sorts of things with strings\n",
        "import random #random generator"
      ]
    },
    {
      "cell_type": "code",
      "source": [
        "lc_letters = string.ascii_lowercase\n",
        "print(lc_letters) #prints all lowercase letters\n",
        "\n",
        "uc_letters = string.ascii_uppercase\n",
        "print (uc_letters)\n",
        "\n",
        "digits = string.digits\n",
        "print(digits)\n",
        "\n",
        "punc = string.punctuation\n",
        "print(punc)\n",
        "\n",
        "punctuation= \"!#$%&()*+,-./:;?@[]^_{|}~\"\n",
        "\n",
        "#all the things you can use in password making\n",
        "#sees each one as an object not as a letter\n",
        "\n",
        "allchars= lc_letters + uc_letters + digits + punc #concatinated\n",
        "allcharacters= lc_letters + uc_letters + digits + punctuation"
      ],
      "metadata": {
        "colab": {
          "base_uri": "https://localhost:8080/"
        },
        "id": "f9IyQ6D3zDGP",
        "outputId": "55bd1af3-5ce8-49c8-b8e8-6ee15f0c85fe"
      },
      "execution_count": 9,
      "outputs": [
        {
          "output_type": "stream",
          "name": "stdout",
          "text": [
            "abcdefghijklmnopqrstuvwxyz\n",
            "ABCDEFGHIJKLMNOPQRSTUVWXYZ\n",
            "0123456789\n",
            "!\"#$%&'()*+,-./:;<=>?@[\\]^_`{|}~\n"
          ]
        }
      ]
    },
    {
      "cell_type": "code",
      "source": [
        "character= random.choice(lc_letters)\n",
        "print(character)\n",
        "#each time you run it it will choose one random character out of the set of lowercase characters you have populated lc_letters"
      ],
      "metadata": {
        "colab": {
          "base_uri": "https://localhost:8080/"
        },
        "id": "9WZCDlGEzruI",
        "outputId": "172f9006-d2ef-4d5b-c7cf-f49e1300f9bd"
      },
      "execution_count": 4,
      "outputs": [
        {
          "output_type": "stream",
          "name": "stdout",
          "text": [
            "h\n"
          ]
        }
      ]
    },
    {
      "cell_type": "code",
      "source": [
        "character1= random.choice(allchars)\n",
        "print(character1)\n",
        "#each time you run you can get any of the values populated into allchars above"
      ],
      "metadata": {
        "colab": {
          "base_uri": "https://localhost:8080/"
        },
        "id": "N6qggwdM0U-g",
        "outputId": "648bb19d-8e93-451c-b05b-70c65d56a276"
      },
      "execution_count": 7,
      "outputs": [
        {
          "output_type": "stream",
          "name": "stdout",
          "text": [
            "$\n"
          ]
        }
      ]
    },
    {
      "cell_type": "code",
      "source": [
        "passwd= ''#empty variable that we are building upon\n",
        "\n",
        "for c in range(8):\n",
        "  passwd += random.choice(allchars) #new random variable each time being added to empty variable\n",
        "  passwd = passwd.replace(\"'\",\"\") #replace the variable passwd; creating a condition\n",
        "  passwd = passwd.replace('\"',' ') #could you continue function/if else function but it is really a decision of if you want to clean up as you code or after\n",
        "  #could also refeine punc without the characters you don't want like \",+\\, etc.\n",
        "\n",
        "print(passwd)"
      ],
      "metadata": {
        "colab": {
          "base_uri": "https://localhost:8080/"
        },
        "id": "CmDxeaKj0lF9",
        "outputId": "67a475e1-a901-4881-ddee-da8437aa1eef"
      },
      "execution_count": 8,
      "outputs": [
        {
          "output_type": "stream",
          "name": "stdout",
          "text": [
            "`_Xmcsn\"\n"
          ]
        }
      ]
    },
    {
      "cell_type": "code",
      "source": [
        "passwd= ''\n",
        "\n",
        "for c in range (8): #function may or may not consume element in range (c)\n",
        "  passwd += random.choice(allcharacters)\n",
        "\n",
        "print(passwd)"
      ],
      "metadata": {
        "colab": {
          "base_uri": "https://localhost:8080/"
        },
        "id": "qQlzuD1a18rG",
        "outputId": "7375043e-4ff6-4fe7-d868-4ec78a697e0d"
      },
      "execution_count": 10,
      "outputs": [
        {
          "output_type": "stream",
          "name": "stdout",
          "text": [
            "?SdaHO2G\n"
          ]
        }
      ]
    },
    {
      "cell_type": "code",
      "source": [
        "def give_me_a_password():\n",
        "  passwd = ''\n",
        "  for i in range(8): #always giving 8 characters for the password\n",
        "    passwd += random.choice(allchars)\n",
        "  print(passwd)\n",
        "  #so far we have defined the function\n",
        "give_me_a_password() #passing in no parameters into function because it takes none"
      ],
      "metadata": {
        "colab": {
          "base_uri": "https://localhost:8080/"
        },
        "id": "Zgpa3Za625f6",
        "outputId": "8339911b-69c0-44c5-a044-2df577ccd2c2"
      },
      "execution_count": 11,
      "outputs": [
        {
          "output_type": "stream",
          "name": "stdout",
          "text": [
            "IwXB>IQW\n"
          ]
        }
      ]
    },
    {
      "cell_type": "code",
      "source": [
        "def give_me_a_password(length): #creating a parameter called length\n",
        "  passwd = ''\n",
        "  for i in range(length): #passing in length into the range\n",
        "    passwd += random.choice(allchars)\n",
        "  return(passwd)\n",
        "   #don't want to print the password, want to return passwd\n",
        "\n",
        "give_me_a_password(44) #reusable; can just give the length of password you want; more flexible"
      ],
      "metadata": {
        "colab": {
          "base_uri": "https://localhost:8080/",
          "height": 35
        },
        "id": "YInF-Zag3mLY",
        "outputId": "63ac7b08-0c65-4c44-b6b5-8d2484521288"
      },
      "execution_count": 15,
      "outputs": [
        {
          "output_type": "execute_result",
          "data": {
            "text/plain": [
              "'>2T}X2i\\\\!1l??yB~9K04`8s;^NSq{fJCBSe=@^HGdQ2{'"
            ],
            "application/vnd.google.colaboratory.intrinsic+json": {
              "type": "string"
            }
          },
          "metadata": {},
          "execution_count": 15
        }
      ]
    },
    {
      "cell_type": "code",
      "source": [
        "from ast import Return\n",
        "beatles = [\"John\",\"Paul\",\"Ringo\",\"George\"]\n",
        "\n",
        "for b in beatles:\n",
        "  passw= give_me_a_password(4)\n",
        "  print(b + ' ' + passw) #print out name of the beatle with a space and then generate a password for each one of the four beatles\n",
        "  #print is only printing on to the screen and not conputing to memory\n",
        "  #when you return a password you can use it somewhere else\n",
        ""
      ],
      "metadata": {
        "colab": {
          "base_uri": "https://localhost:8080/"
        },
        "id": "Ak13SXLP31nl",
        "outputId": "0e224da2-493f-4de5-a236-402208974263"
      },
      "execution_count": 17,
      "outputs": [
        {
          "output_type": "stream",
          "name": "stdout",
          "text": [
            "John 1$2q\n",
            "Paul /I/T\n",
            "Ringo AiVU\n",
            "George 4l6p\n"
          ]
        }
      ]
    },
    {
      "cell_type": "markdown",
      "source": [
        "F to C to F Converter"
      ],
      "metadata": {
        "id": "i8bdI5G16caB"
      }
    },
    {
      "cell_type": "code",
      "source": [
        "def c_to_f(temp):\n",
        "  ftemp = (temp * 1.8) +32 #going to do the stuff in paraentheses first based on pemdas\n",
        "  # print(ftemp)\n",
        "  return ftemp"
      ],
      "metadata": {
        "id": "RZC0OZE76fmc"
      },
      "execution_count": 21,
      "outputs": []
    },
    {
      "cell_type": "code",
      "source": [
        "c_to_f(40) # can't pass bananas into parameters because it is a string"
      ],
      "metadata": {
        "colab": {
          "base_uri": "https://localhost:8080/"
        },
        "id": "LKRkY8Wa66pB",
        "outputId": "628709e5-0c17-42c8-9aa6-09215d35391c"
      },
      "execution_count": 22,
      "outputs": [
        {
          "output_type": "execute_result",
          "data": {
            "text/plain": [
              "104.0"
            ]
          },
          "metadata": {},
          "execution_count": 22
        }
      ]
    },
    {
      "cell_type": "code",
      "source": [
        "def f_to_c(temp):\n",
        "  ctemp= (temp -32) / 1.8\n",
        "  return ctemp"
      ],
      "metadata": {
        "id": "P3SeA_Vc7de7"
      },
      "execution_count": 23,
      "outputs": []
    },
    {
      "cell_type": "code",
      "source": [
        "f_to_c(104)"
      ],
      "metadata": {
        "colab": {
          "base_uri": "https://localhost:8080/"
        },
        "id": "Lp9Komle713-",
        "outputId": "150aa2cc-b030-40a6-8641-31e2db04abbd"
      },
      "execution_count": 24,
      "outputs": [
        {
          "output_type": "execute_result",
          "data": {
            "text/plain": [
              "40.0"
            ]
          },
          "metadata": {},
          "execution_count": 24
        }
      ]
    },
    {
      "cell_type": "code",
      "source": [
        "def convert_temp(temp,unit): #units I want back\n",
        "  #in case I want Celsius back:\n",
        "  if unit == 'C': #evaluate unit\n",
        "   ctemp= (temp -32) / 1.8\n",
        "   return ctemp\n",
        "  elif unit == 'F':\n",
        "    ftemp = (temp * 1.8) +32\n",
        "    return ftemp\n",
        "  else:\n",
        "    print(\"Hey, you didn't give me C or F!\") #catch all in case you dont give an input temperature\n",
        "    #temp= integer or float\n",
        "    #mode= string\n",
        "\n",
        "convert_temp(40,\"F\") #inputted temp in celcius and gave it back in farenheit"
      ],
      "metadata": {
        "colab": {
          "base_uri": "https://localhost:8080/"
        },
        "id": "kB5VOTRf74_x",
        "outputId": "5be0c4ad-d63d-4080-b96e-6e9cda682644"
      },
      "execution_count": 25,
      "outputs": [
        {
          "output_type": "execute_result",
          "data": {
            "text/plain": [
              "104.0"
            ]
          },
          "metadata": {},
          "execution_count": 25
        }
      ]
    }
  ]
}