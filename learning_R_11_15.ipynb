{
  "nbformat": 4,
  "nbformat_minor": 0,
  "metadata": {
    "colab": {
      "provenance": [],
      "authorship_tag": "ABX9TyP8o1sDnYIlFY0q2eIQH+Pu",
      "include_colab_link": true
    },
    "kernelspec": {
      "name": "ir",
      "display_name": "R"
    },
    "language_info": {
      "name": "R"
    }
  },
  "cells": [
    {
      "cell_type": "markdown",
      "metadata": {
        "id": "view-in-github",
        "colab_type": "text"
      },
      "source": [
        "<a href=\"https://colab.research.google.com/github/simoneminorr/GH-demo/blob/main/learning_R_11_15.ipynb\" target=\"_parent\"><img src=\"https://colab.research.google.com/assets/colab-badge.svg\" alt=\"Open In Colab\"/></a>"
      ]
    },
    {
      "cell_type": "code",
      "execution_count": 1,
      "metadata": {
        "colab": {
          "base_uri": "https://localhost:8080/",
          "height": 52
        },
        "id": "YS2kEeimjM1u",
        "outputId": "209f75a5-d375-4335-c1e9-7d28b4947f3e"
      },
      "outputs": [
        {
          "output_type": "display_data",
          "data": {
            "text/html": [
              "128"
            ],
            "text/markdown": "128",
            "text/latex": "128",
            "text/plain": [
              "[1] 128"
            ]
          },
          "metadata": {}
        },
        {
          "output_type": "display_data",
          "data": {
            "text/html": [
              "2744"
            ],
            "text/markdown": "2744",
            "text/latex": "2744",
            "text/plain": [
              "[1] 2744"
            ]
          },
          "metadata": {}
        }
      ],
      "source": [
        "#completes normal PEMDAS\n",
        "4^2 * (4+8*2/4)\n",
        "14^3"
      ]
    },
    {
      "cell_type": "code",
      "source": [
        "#can assign true and false to things\n",
        "#TRUE and FALSE are reserved so they cannot be used as a name but they can be inputted as values\n",
        "u<-TRUE\n",
        "v<-FALSE\n"
      ],
      "metadata": {
        "id": "lwuzndhhjocb"
      },
      "execution_count": null,
      "outputs": []
    },
    {
      "cell_type": "code",
      "source": [
        "x= as.characters(3.14)\n",
        "#coercing into character"
      ],
      "metadata": {
        "id": "8mZo8zU1kDf4"
      },
      "execution_count": null,
      "outputs": []
    },
    {
      "cell_type": "code",
      "source": [
        "fname<- \"Joe\"\n",
        "lname<- \"Smith\"\n",
        "paste(fname, lname)\n",
        "c(fname, lname)"
      ],
      "metadata": {
        "colab": {
          "base_uri": "https://localhost:8080/",
          "height": 52
        },
        "id": "JgWMoG9UkVPb",
        "outputId": "0d4626fe-9ccb-4c4a-e3e6-0b070ebd93cf"
      },
      "execution_count": 2,
      "outputs": [
        {
          "output_type": "display_data",
          "data": {
            "text/html": [
              "'Joe Smith'"
            ],
            "text/markdown": "'Joe Smith'",
            "text/latex": "'Joe Smith'",
            "text/plain": [
              "[1] \"Joe Smith\""
            ]
          },
          "metadata": {}
        },
        {
          "output_type": "display_data",
          "data": {
            "text/html": [
              "<style>\n",
              ".list-inline {list-style: none; margin:0; padding: 0}\n",
              ".list-inline>li {display: inline-block}\n",
              ".list-inline>li:not(:last-child)::after {content: \"\\00b7\"; padding: 0 .5ex}\n",
              "</style>\n",
              "<ol class=list-inline><li>'Joe'</li><li>'Smith'</li></ol>\n"
            ],
            "text/markdown": "1. 'Joe'\n2. 'Smith'\n\n\n",
            "text/latex": "\\begin{enumerate*}\n\\item 'Joe'\n\\item 'Smith'\n\\end{enumerate*}\n",
            "text/plain": [
              "[1] \"Joe\"   \"Smith\""
            ]
          },
          "metadata": {}
        }
      ]
    },
    {
      "cell_type": "markdown",
      "source": [
        "R indexes as 1 NOT 0 so index one of \"Mary\" is M and index zero is nothing"
      ],
      "metadata": {
        "id": "gnJ4cs_slLBk"
      }
    },
    {
      "cell_type": "code",
      "source": [
        "#sub is how you replace segments"
      ],
      "metadata": {
        "id": "B6F7WbgclYuJ"
      },
      "execution_count": null,
      "outputs": []
    },
    {
      "cell_type": "code",
      "source": [
        "#vector is the same thing as an array\n",
        "#vector is a list of all the same datatypes\n",
        "#matrix is a two dimensional vector (rows and columns which is a table) but these have to all be the same data types so no names\n",
        "#array is a vactor with one or more dimension\n",
        "#3 dimensions just within a photo\n",
        "#an array is almost the same thing as a vector, an array with 2 dimension is almost the same thing as a matrix, and 3+ is an narray\n",
        "#list can contain all different types (booleans, integers, strings, etc.)\n",
        "#data frame is like a table"
      ],
      "metadata": {
        "id": "jx-3q-Oil_3G"
      },
      "execution_count": null,
      "outputs": []
    },
    {
      "cell_type": "code",
      "source": [
        "#vectors can be created with the c function which stands for combine c()\n",
        "c(2,3,5)\n",
        "#separate but all in one vector"
      ],
      "metadata": {
        "colab": {
          "base_uri": "https://localhost:8080/",
          "height": 34
        },
        "id": "XL2z-qAung33",
        "outputId": "991de3be-d811-4941-8520-70be0a0ab25c"
      },
      "execution_count": 3,
      "outputs": [
        {
          "output_type": "display_data",
          "data": {
            "text/html": [
              "<style>\n",
              ".list-inline {list-style: none; margin:0; padding: 0}\n",
              ".list-inline>li {display: inline-block}\n",
              ".list-inline>li:not(:last-child)::after {content: \"\\00b7\"; padding: 0 .5ex}\n",
              "</style>\n",
              "<ol class=list-inline><li>2</li><li>3</li><li>5</li></ol>\n"
            ],
            "text/markdown": "1. 2\n2. 3\n3. 5\n\n\n",
            "text/latex": "\\begin{enumerate*}\n\\item 2\n\\item 3\n\\item 5\n\\end{enumerate*}\n",
            "text/plain": [
              "[1] 2 3 5"
            ]
          },
          "metadata": {}
        }
      ]
    },
    {
      "cell_type": "code",
      "source": [
        "#if we want to store different data types in a vector like thing it has to be stored in a list"
      ],
      "metadata": {
        "id": "G7lRam-MoKIx"
      },
      "execution_count": null,
      "outputs": []
    },
    {
      "cell_type": "code",
      "source": [
        "s1<- 2:5\n",
        "s1\n",
        "#sequence is made out of counting between 2 and 5"
      ],
      "metadata": {
        "colab": {
          "base_uri": "https://localhost:8080/",
          "height": 34
        },
        "id": "TaOXArkCohs1",
        "outputId": "3a74b3e9-ebbd-4631-90b4-2a2c92d3d6e9"
      },
      "execution_count": 4,
      "outputs": [
        {
          "output_type": "display_data",
          "data": {
            "text/html": [
              "<style>\n",
              ".list-inline {list-style: none; margin:0; padding: 0}\n",
              ".list-inline>li {display: inline-block}\n",
              ".list-inline>li:not(:last-child)::after {content: \"\\00b7\"; padding: 0 .5ex}\n",
              "</style>\n",
              "<ol class=list-inline><li>2</li><li>3</li><li>4</li><li>5</li></ol>\n"
            ],
            "text/markdown": "1. 2\n2. 3\n3. 4\n4. 5\n\n\n",
            "text/latex": "\\begin{enumerate*}\n\\item 2\n\\item 3\n\\item 4\n\\item 5\n\\end{enumerate*}\n",
            "text/plain": [
              "[1] 2 3 4 5"
            ]
          },
          "metadata": {}
        }
      ]
    },
    {
      "cell_type": "code",
      "source": [
        "s2<- seq(from=10, to=500, by=13)\n",
        "s2"
      ],
      "metadata": {
        "colab": {
          "base_uri": "https://localhost:8080/",
          "height": 52
        },
        "id": "77H_jlSPow2X",
        "outputId": "b142e259-d157-4eed-8032-2e30ef8d389e"
      },
      "execution_count": 5,
      "outputs": [
        {
          "output_type": "display_data",
          "data": {
            "text/html": [
              "<style>\n",
              ".list-inline {list-style: none; margin:0; padding: 0}\n",
              ".list-inline>li {display: inline-block}\n",
              ".list-inline>li:not(:last-child)::after {content: \"\\00b7\"; padding: 0 .5ex}\n",
              "</style>\n",
              "<ol class=list-inline><li>10</li><li>23</li><li>36</li><li>49</li><li>62</li><li>75</li><li>88</li><li>101</li><li>114</li><li>127</li><li>140</li><li>153</li><li>166</li><li>179</li><li>192</li><li>205</li><li>218</li><li>231</li><li>244</li><li>257</li><li>270</li><li>283</li><li>296</li><li>309</li><li>322</li><li>335</li><li>348</li><li>361</li><li>374</li><li>387</li><li>400</li><li>413</li><li>426</li><li>439</li><li>452</li><li>465</li><li>478</li><li>491</li></ol>\n"
            ],
            "text/markdown": "1. 10\n2. 23\n3. 36\n4. 49\n5. 62\n6. 75\n7. 88\n8. 101\n9. 114\n10. 127\n11. 140\n12. 153\n13. 166\n14. 179\n15. 192\n16. 205\n17. 218\n18. 231\n19. 244\n20. 257\n21. 270\n22. 283\n23. 296\n24. 309\n25. 322\n26. 335\n27. 348\n28. 361\n29. 374\n30. 387\n31. 400\n32. 413\n33. 426\n34. 439\n35. 452\n36. 465\n37. 478\n38. 491\n\n\n",
            "text/latex": "\\begin{enumerate*}\n\\item 10\n\\item 23\n\\item 36\n\\item 49\n\\item 62\n\\item 75\n\\item 88\n\\item 101\n\\item 114\n\\item 127\n\\item 140\n\\item 153\n\\item 166\n\\item 179\n\\item 192\n\\item 205\n\\item 218\n\\item 231\n\\item 244\n\\item 257\n\\item 270\n\\item 283\n\\item 296\n\\item 309\n\\item 322\n\\item 335\n\\item 348\n\\item 361\n\\item 374\n\\item 387\n\\item 400\n\\item 413\n\\item 426\n\\item 439\n\\item 452\n\\item 465\n\\item 478\n\\item 491\n\\end{enumerate*}\n",
            "text/plain": [
              " [1]  10  23  36  49  62  75  88 101 114 127 140 153 166 179 192 205 218 231 244\n",
              "[20] 257 270 283 296 309 322 335 348 361 374 387 400 413 426 439 452 465 478 491"
            ]
          },
          "metadata": {}
        }
      ]
    },
    {
      "cell_type": "code",
      "source": [
        "#creating a series of repeated values and how many times do you want me to repeat it\n",
        "s3<-rep(1,5)\n",
        "s3\n",
        "#prints out a sequence with 1 repeating 5 times"
      ],
      "metadata": {
        "colab": {
          "base_uri": "https://localhost:8080/",
          "height": 34
        },
        "id": "usFQg98xo4kj",
        "outputId": "07e13a32-4557-4109-92d8-1270d393fefe"
      },
      "execution_count": 6,
      "outputs": [
        {
          "output_type": "display_data",
          "data": {
            "text/html": [
              "<style>\n",
              ".list-inline {list-style: none; margin:0; padding: 0}\n",
              ".list-inline>li {display: inline-block}\n",
              ".list-inline>li:not(:last-child)::after {content: \"\\00b7\"; padding: 0 .5ex}\n",
              "</style>\n",
              "<ol class=list-inline><li>1</li><li>1</li><li>1</li><li>1</li><li>1</li></ol>\n"
            ],
            "text/markdown": "1. 1\n2. 1\n3. 1\n4. 1\n5. 1\n\n\n",
            "text/latex": "\\begin{enumerate*}\n\\item 1\n\\item 1\n\\item 1\n\\item 1\n\\item 1\n\\end{enumerate*}\n",
            "text/plain": [
              "[1] 1 1 1 1 1"
            ]
          },
          "metadata": {}
        }
      ]
    },
    {
      "cell_type": "code",
      "source": [
        "a<- c(2,5,7,2,4)\n",
        "b<- c(9,4,6,0,2)\n",
        "a/b\n",
        "a-b\n",
        "a*b"
      ],
      "metadata": {
        "colab": {
          "base_uri": "https://localhost:8080/",
          "height": 69
        },
        "id": "6LZYpqPopkaK",
        "outputId": "1229f355-84f1-4ad6-82b3-938b24ad050a"
      },
      "execution_count": 7,
      "outputs": [
        {
          "output_type": "display_data",
          "data": {
            "text/html": [
              "<style>\n",
              ".list-inline {list-style: none; margin:0; padding: 0}\n",
              ".list-inline>li {display: inline-block}\n",
              ".list-inline>li:not(:last-child)::after {content: \"\\00b7\"; padding: 0 .5ex}\n",
              "</style>\n",
              "<ol class=list-inline><li>0.222222222222222</li><li>1.25</li><li>1.16666666666667</li><li>Inf</li><li>2</li></ol>\n"
            ],
            "text/markdown": "1. 0.222222222222222\n2. 1.25\n3. 1.16666666666667\n4. Inf\n5. 2\n\n\n",
            "text/latex": "\\begin{enumerate*}\n\\item 0.222222222222222\n\\item 1.25\n\\item 1.16666666666667\n\\item Inf\n\\item 2\n\\end{enumerate*}\n",
            "text/plain": [
              "[1] 0.2222222 1.2500000 1.1666667       Inf 2.0000000"
            ]
          },
          "metadata": {}
        },
        {
          "output_type": "display_data",
          "data": {
            "text/html": [
              "<style>\n",
              ".list-inline {list-style: none; margin:0; padding: 0}\n",
              ".list-inline>li {display: inline-block}\n",
              ".list-inline>li:not(:last-child)::after {content: \"\\00b7\"; padding: 0 .5ex}\n",
              "</style>\n",
              "<ol class=list-inline><li>-7</li><li>1</li><li>1</li><li>2</li><li>2</li></ol>\n"
            ],
            "text/markdown": "1. -7\n2. 1\n3. 1\n4. 2\n5. 2\n\n\n",
            "text/latex": "\\begin{enumerate*}\n\\item -7\n\\item 1\n\\item 1\n\\item 2\n\\item 2\n\\end{enumerate*}\n",
            "text/plain": [
              "[1] -7  1  1  2  2"
            ]
          },
          "metadata": {}
        },
        {
          "output_type": "display_data",
          "data": {
            "text/html": [
              "<style>\n",
              ".list-inline {list-style: none; margin:0; padding: 0}\n",
              ".list-inline>li {display: inline-block}\n",
              ".list-inline>li:not(:last-child)::after {content: \"\\00b7\"; padding: 0 .5ex}\n",
              "</style>\n",
              "<ol class=list-inline><li>18</li><li>20</li><li>42</li><li>0</li><li>8</li></ol>\n"
            ],
            "text/markdown": "1. 18\n2. 20\n3. 42\n4. 0\n5. 8\n\n\n",
            "text/latex": "\\begin{enumerate*}\n\\item 18\n\\item 20\n\\item 42\n\\item 0\n\\item 8\n\\end{enumerate*}\n",
            "text/plain": [
              "[1] 18 20 42  0  8"
            ]
          },
          "metadata": {}
        }
      ]
    },
    {
      "cell_type": "code",
      "source": [
        "#if one vector is longer than the other it recycles the shorter vactor until the operation is complete with all the items in the longer vector\n",
        "#when the recylcing is tidy like 3 and 9 you can recycle an even number of times and the output will be printed normally\n",
        "#if recycling but they don't divide evenly, then you will get a warning message and the output"
      ],
      "metadata": {
        "id": "dqGIwZO2p-kx"
      },
      "execution_count": null,
      "outputs": []
    }
  ]
}