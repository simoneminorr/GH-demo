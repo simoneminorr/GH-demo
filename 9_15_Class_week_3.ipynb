{
  "nbformat": 4,
  "nbformat_minor": 0,
  "metadata": {
    "colab": {
      "provenance": [],
      "include_colab_link": true
    },
    "kernelspec": {
      "name": "python3",
      "display_name": "Python 3"
    },
    "language_info": {
      "name": "python"
    }
  },
  "cells": [
    {
      "cell_type": "markdown",
      "metadata": {
        "id": "view-in-github",
        "colab_type": "text"
      },
      "source": [
        "<a href=\"https://colab.research.google.com/github/simoneminorr/GH-demo/blob/main/9_15_Class_week_3.ipynb\" target=\"_parent\"><img src=\"https://colab.research.google.com/assets/colab-badge.svg\" alt=\"Open In Colab\"/></a>"
      ]
    },
    {
      "cell_type": "markdown",
      "source": [
        "# Homework - Week 3\n",
        "\n",
        "Complete the following blocks as specified in the directions. Run each cell to return the desired output. Save your notebook back to your GitHub repository and submit the GitHub URL for your notebook for grading."
      ],
      "metadata": {
        "id": "xJ6ZWHKXW4qY"
      }
    },
    {
      "cell_type": "markdown",
      "source": [
        "## 1. Variables\n",
        "\n",
        "Declare and populate three variables below. Be sure your code outputs each variable:\n",
        "\n",
        "1. Containing a string\n",
        "2. Containing a boolean\n",
        "3. Containing an integer"
      ],
      "metadata": {
        "id": "j0mCENI3XK2i"
      }
    },
    {
      "cell_type": "code",
      "execution_count": null,
      "metadata": {
        "id": "mdX0VBQgW1-9"
      },
      "outputs": [],
      "source": [
        "# Put answers below\n",
        "s='banana'\n",
        "b= True #can't be in quotes\n",
        "i=99.3 #not an integer because it has a decimal thus it is truly a float f=99.3\n",
        "i= 99\n",
        "print(s,b,i,f)\n",
        "#we populate variables to help easily retrieve strings"
      ]
    },
    {
      "cell_type": "markdown",
      "source": [
        "## 2. String Manipulation\n",
        "\n",
        "Take the following string and, using python commands, show how to fulfill the requested task. Be sure your code outputs the requested data.\n",
        "\n",
        "String: \"Go Hoos, Beat JMU!\"\n",
        "\n",
        "1. Write a command that extracts the first 8 characters of the string.\n",
        "2. Write a command that extracts the last 4 characters of the string."
      ],
      "metadata": {
        "id": "atxtPF2-XXiW"
      }
    },
    {
      "cell_type": "code",
      "source": [
        "# Put answers below\n",
        "mystring= \"Go Hoos, Beat JMU!\"\n",
        "m=mystring[:8]\n",
        "m\n",
        "\n",
        "f= mystring[-4:]\n",
        "f\n",
        "#in a notebook it is going to execute in sequential order so you need to print in order for both to show up in output\n",
        "print(m)\n",
        "print(f)"
      ],
      "metadata": {
        "id": "2szfLXZcYC_7",
        "outputId": "891c27f0-6964-4841-fa5d-59678cc95969",
        "colab": {
          "base_uri": "https://localhost:8080/"
        }
      },
      "execution_count": null,
      "outputs": [
        {
          "output_type": "stream",
          "name": "stdout",
          "text": [
            "Go Hoos,\n",
            "JMU!\n"
          ]
        }
      ]
    },
    {
      "cell_type": "markdown",
      "source": [
        "# 3. Concatenation\n",
        "\n",
        "1. Declare any two string variables and concatenate them.\n",
        "2. Declare a string parameter and concatenate another hard-coded phrase with it."
      ],
      "metadata": {
        "id": "GeXcT_9sYEdx"
      }
    },
    {
      "cell_type": "code",
      "source": [
        "# Put answers below\n",
        "s= \"simone\"\n",
        "m= \"minor\"\n",
        "print(s+\" \"+m) #inserted a space character with the quotes instead of adding it to one of the phrases in case you need to retrieve a variable on its own\n",
        "\n",
        "newstring= \"cheese\"\n",
        "print(newstring + \"is so good\") #a hard coded phrase is one that is for one time run, it is not stored as a variable or object\n"
      ],
      "metadata": {
        "id": "v3fvvKP4ZUvJ"
      },
      "execution_count": null,
      "outputs": []
    },
    {
      "cell_type": "markdown",
      "source": [
        "# 4. Math Operations\n",
        "\n",
        "Using the following numeric variables, write Python code that fulfills the requested operations. Be sure your code outputs the correct results.\n",
        "\n",
        "```python\n",
        "var1 = 9\n",
        "var2 = 12\n",
        "var3 = 48\n",
        "var4 = 4\n",
        "```\n",
        "\n",
        "1. Divide var3 by var2\n",
        "2. Multiply var1 by var4\n",
        "3. Write a Python expression that gives a result of `16`."
      ],
      "metadata": {
        "id": "DkVtHJBoYW34"
      }
    },
    {
      "cell_type": "code",
      "source": [
        "# Put answers below\n",
        "var1 = 9\n",
        "var2 = 12\n",
        "var3 = 48\n",
        "var4 = 4\n",
        "print(var3/var2) #gives you back a float by default\n",
        "divval= var3/var2\n",
        "print(int(divval)) # to make it print as an integer\n",
        "print(int(var3/var2)) #to make it print as integer with less work\n",
        "\n",
        "print(var4*var4)"
      ],
      "metadata": {
        "id": "db5UdbrVZSiJ",
        "outputId": "3efcc6e9-5bc0-4e60-e30a-87592d98e29d",
        "colab": {
          "base_uri": "https://localhost:8080/"
        }
      },
      "execution_count": null,
      "outputs": [
        {
          "output_type": "stream",
          "name": "stdout",
          "text": [
            "4.0\n",
            "4\n",
            "4\n",
            "16\n"
          ]
        }
      ]
    }
  ]
}