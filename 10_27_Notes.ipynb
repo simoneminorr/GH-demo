{
  "nbformat": 4,
  "nbformat_minor": 0,
  "metadata": {
    "colab": {
      "provenance": [],
      "authorship_tag": "ABX9TyODwILevurw5YrAm93xf2hH",
      "include_colab_link": true
    },
    "kernelspec": {
      "name": "python3",
      "display_name": "Python 3"
    },
    "language_info": {
      "name": "python"
    }
  },
  "cells": [
    {
      "cell_type": "markdown",
      "metadata": {
        "id": "view-in-github",
        "colab_type": "text"
      },
      "source": [
        "<a href=\"https://colab.research.google.com/github/simoneminorr/GH-demo/blob/main/10_27_Notes.ipynb\" target=\"_parent\"><img src=\"https://colab.research.google.com/assets/colab-badge.svg\" alt=\"Open In Colab\"/></a>"
      ]
    },
    {
      "cell_type": "code",
      "execution_count": 3,
      "metadata": {
        "colab": {
          "base_uri": "https://localhost:8080/"
        },
        "id": "aXopSKMweCl4",
        "outputId": "1f1cceaf-305a-42d7-9ea8-83aa233edfc4"
      },
      "outputs": [
        {
          "output_type": "stream",
          "name": "stdout",
          "text": [
            "The name of this band isTalking Headsand it has 4 members\n",
            "The name of this band is Talking Heads and it has 5 members\n",
            "The name of this band is Talking Heads and it has 4 members\n"
          ]
        }
      ],
      "source": [
        "#print\n",
        "\n",
        "band= \"Talking Heads\"\n",
        "member_count=4\n",
        "#old school printing:\n",
        "print(\"The name of this band is\" + band + \"and it has \" + str(member_count) + \" members\")\n",
        "#passed as a tuple\n",
        "print(\"The name of this band is\" , band , \"and it has\" , member_count+1,  \"members\")\n",
        "#f-string printing:\n",
        "print(f\"The name of this band is {band} and it has {member_count} members\")\n",
        "\n",
        "#retrieve a _ using an object with curly brackets\n",
        "#calling a class you would need the self before the member count in the curly brackets"
      ]
    },
    {
      "cell_type": "code",
      "source": [
        "#class cars:\n",
        "class Cars: #everything has to be nested under the class\n",
        "  def __init__ (self, make, model):\n",
        "    self.make= make #don't always need self if you are not referring to multiple attributes like make and model because then you need to clarify\n",
        "    self.model= model\n",
        "\n",
        "  def multiply_them(self, x,y):\n",
        "    return self.x * self.y\n",
        "  def divide_them(self, x, y):\n",
        "    if y>x:\n",
        "      return self.y/self.x\n",
        "    elif x>y:\n",
        "      return self.x / self.y\n",
        "    else:\n",
        "        print(\"I cannot divide these!\")"
      ],
      "metadata": {
        "id": "q_iCWimagwvI"
      },
      "execution_count": 8,
      "outputs": []
    },
    {
      "cell_type": "code",
      "source": [
        "def simple_function(x,y,z):\n",
        "  return x + y + z\n",
        "\n",
        "simple_function(5,6,7)\n",
        "\n",
        "simple_function(z=3,y=14,x=1)\n",
        "#you can do it which ever way you want, there just needs to be 3 variables"
      ],
      "metadata": {
        "id": "WEl4feHAiOb4"
      },
      "execution_count": 5,
      "outputs": []
    },
    {
      "cell_type": "code",
      "source": [
        "class Albums:\n",
        "  pass\n",
        "\n",
        "album1= Albums()\n",
        "#these attributes only refer to album1 not the entire class\n",
        "album1.genre= \"Rock\"\n",
        "album1.year= 1980\n",
        "album1.title= \"Remain In Light\"\n",
        "album1.band= \"Talking Heads\""
      ],
      "metadata": {
        "id": "_M_BAp3ajLe2"
      },
      "execution_count": 16,
      "outputs": []
    },
    {
      "cell_type": "code",
      "source": [
        "class Records:\n",
        "  var1= \"Rockets\" #just straight attributes\n",
        "  var2= \"Bananas\"\n",
        "Records.var1"
      ],
      "metadata": {
        "colab": {
          "base_uri": "https://localhost:8080/",
          "height": 35
        },
        "id": "rC2A2uY5j_NB",
        "outputId": "b775d1a1-cc30-48ab-fca2-bfed66df629b"
      },
      "execution_count": 11,
      "outputs": [
        {
          "output_type": "execute_result",
          "data": {
            "text/plain": [
              "'Rockets'"
            ],
            "application/vnd.google.colaboratory.intrinsic+json": {
              "type": "string"
            }
          },
          "metadata": {},
          "execution_count": 11
        }
      ]
    },
    {
      "cell_type": "code",
      "source": [
        "record1= Records() #created an object from the class\n",
        "record1.var1"
      ],
      "metadata": {
        "colab": {
          "base_uri": "https://localhost:8080/",
          "height": 35
        },
        "id": "QrQafDATkWFm",
        "outputId": "f9698e19-095f-42cc-c951-442abe6ed241"
      },
      "execution_count": 12,
      "outputs": [
        {
          "output_type": "execute_result",
          "data": {
            "text/plain": [
              "'Rockets'"
            ],
            "application/vnd.google.colaboratory.intrinsic+json": {
              "type": "string"
            }
          },
          "metadata": {},
          "execution_count": 12
        }
      ]
    },
    {
      "cell_type": "code",
      "source": [
        "record1.var1= \"Mopeds\" #altered the on instance of the class\n",
        "record1.var1"
      ],
      "metadata": {
        "colab": {
          "base_uri": "https://localhost:8080/",
          "height": 35
        },
        "id": "P5IRCGlBkgxD",
        "outputId": "a83309e0-4d63-43f0-ddc2-75893f5d8144"
      },
      "execution_count": 13,
      "outputs": [
        {
          "output_type": "execute_result",
          "data": {
            "text/plain": [
              "'Mopeds'"
            ],
            "application/vnd.google.colaboratory.intrinsic+json": {
              "type": "string"
            }
          },
          "metadata": {},
          "execution_count": 13
        }
      ]
    },
    {
      "cell_type": "code",
      "source": [
        "Records.var1 #you can still call on the original class and get the original thing back"
      ],
      "metadata": {
        "colab": {
          "base_uri": "https://localhost:8080/",
          "height": 35
        },
        "id": "1nd7lBhukoWu",
        "outputId": "067f8917-6743-491d-d6f2-9e2fb22f6f4c"
      },
      "execution_count": 14,
      "outputs": [
        {
          "output_type": "execute_result",
          "data": {
            "text/plain": [
              "'Rockets'"
            ],
            "application/vnd.google.colaboratory.intrinsic+json": {
              "type": "string"
            }
          },
          "metadata": {},
          "execution_count": 14
        }
      ]
    }
  ]
}