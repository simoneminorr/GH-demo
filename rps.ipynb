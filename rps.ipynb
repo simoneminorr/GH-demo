{
  "nbformat": 4,
  "nbformat_minor": 0,
  "metadata": {
    "colab": {
      "provenance": [],
      "authorship_tag": "ABX9TyOPNw99xZNb/DPVrlZG8eHY",
      "include_colab_link": true
    },
    "kernelspec": {
      "name": "python3",
      "display_name": "Python 3"
    },
    "language_info": {
      "name": "python"
    }
  },
  "cells": [
    {
      "cell_type": "markdown",
      "metadata": {
        "id": "view-in-github",
        "colab_type": "text"
      },
      "source": [
        "<a href=\"https://colab.research.google.com/github/simoneminorr/GH-demo/blob/main/rps.ipynb\" target=\"_parent\"><img src=\"https://colab.research.google.com/assets/colab-badge.svg\" alt=\"Open In Colab\"/></a>"
      ]
    },
    {
      "cell_type": "markdown",
      "source": [
        "coding the game of rock paper sicissor"
      ],
      "metadata": {
        "id": "AoX6HkkxdkE_"
      }
    },
    {
      "cell_type": "code",
      "execution_count": 9,
      "metadata": {
        "colab": {
          "base_uri": "https://localhost:8080/"
        },
        "id": "57C9R9B5ddDo",
        "outputId": "3104583b-1fbc-4dc0-eee1-4d2321eee084"
      },
      "outputs": [
        {
          "output_type": "stream",
          "name": "stdout",
          "text": [
            "Rock, Paper, Scissors? Paper\n",
            "Computer guessed Scissors. Computer wins!\n"
          ]
        }
      ],
      "source": [
        "from random import randint\n",
        "#we know that there is a randomization in this game because you never know which of the three options someone will throw\n",
        "\n",
        "t= [\"Rock\", \"Paper\", \"Scissors\"]\n",
        "\n",
        "computer = t[randint(0,2)]\n",
        "#going to tell the computer what it is guessing (between index 0 and 2 of our list)\n",
        "computer\n",
        "#randoly will output one of the items\n",
        "player= input(\"Rock, Paper, Scissors? \")\n",
        "#prompts you with the question as if it is another player\n",
        "\n",
        "if player == computer:\n",
        "  print(\"We have a tie!\")\n",
        "elif player == \"Rock\":\n",
        "  if computer == \"Scissors\":\n",
        "    print(\"You win!\")\n",
        "  else:\n",
        "    print(f\"Computer guessed {computer}. Computer wins!\")\n",
        "\n",
        "elif player == \"Paper\":\n",
        "  if computer == \"Rock\":\n",
        "    print(\"You win!\")\n",
        "  else:\n",
        "    print(f\"Computer guessed {computer}. Computer wins!\")\n",
        "\n",
        "elif player == \"Scissors\":\n",
        "  if computer == \"Paper\":\n",
        "    print(\"You win!\")\n",
        "  else:\n",
        "    print(f\"Computer guessed {computer}. Computer wins!\")\n",
        "else:\n",
        "  print(f\"You guessed {player}. Try again, something went wrong.\")\n",
        "\n",
        "computer = t[randint(0,2)]"
      ]
    },
    {
      "cell_type": "markdown",
      "source": [
        "nested else statement just gives the alternate losing situation"
      ],
      "metadata": {
        "id": "KpuUikEHdlsG"
      }
    },
    {
      "cell_type": "markdown",
      "source": [
        "time series data- different data sets with basis of times or series that might be broken up and hh"
      ],
      "metadata": {
        "id": "p63pNYUDigx_"
      }
    },
    {
      "cell_type": "markdown",
      "source": [
        "plots can be some of the best way to look inside of your data because you can visualize the trends"
      ],
      "metadata": {
        "id": "xhaCTZMRjGVN"
      }
    }
  ]
}