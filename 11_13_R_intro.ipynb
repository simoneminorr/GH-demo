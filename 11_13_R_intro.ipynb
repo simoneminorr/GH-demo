{
  "nbformat": 4,
  "nbformat_minor": 0,
  "metadata": {
    "colab": {
      "provenance": [],
      "authorship_tag": "ABX9TyMQoT6oz6CRSB/g5LIqQDUg",
      "include_colab_link": true
    },
    "kernelspec": {
      "name": "ir",
      "display_name": "R"
    },
    "language_info": {
      "name": "R"
    }
  },
  "cells": [
    {
      "cell_type": "markdown",
      "metadata": {
        "id": "view-in-github",
        "colab_type": "text"
      },
      "source": [
        "<a href=\"https://colab.research.google.com/github/simoneminorr/GH-demo/blob/main/11_13_R_intro.ipynb\" target=\"_parent\"><img src=\"https://colab.research.google.com/assets/colab-badge.svg\" alt=\"Open In Colab\"/></a>"
      ]
    },
    {
      "cell_type": "markdown",
      "source": [
        "older than python\n",
        "object oriented language (everything is an object)\n",
        "glorified calculator\n",
        "can have different commands on the same line with semicolons in between\n",
        "assignments are made with <- , -> (or = but not reccomended)\n",
        "periods have no significance here so periods can be used in naming\n",
        "names cannot start with numbers or punctuation other than period(must start with a letter) and if it starts with a period it cannot be followed with a number\n",
        "case sensitive for name\n",
        "reserved words: TRUE, FALSE, NULL"
      ],
      "metadata": {
        "id": "9qcyIK3YQpCP"
      }
    },
    {
      "cell_type": "code",
      "execution_count": 3,
      "metadata": {
        "colab": {
          "base_uri": "https://localhost:8080/",
          "height": 34
        },
        "id": "kHDgorjYPzER",
        "outputId": "e7a7a2fd-4202-419e-bc93-7af408884152"
      },
      "outputs": [
        {
          "output_type": "display_data",
          "data": {
            "text/html": [
              "'Over it'"
            ],
            "text/markdown": "'Over it'",
            "text/latex": "'Over it'",
            "text/plain": [
              "[1] \"Over it\""
            ]
          },
          "metadata": {}
        }
      ],
      "source": [
        "favorite_album <- \"Over it\"\n",
        "favorite_album\n",
        "#recognized that it was a string and echoed it back to ne as a s"
      ]
    },
    {
      "cell_type": "code",
      "source": [
        "myvar <- 11"
      ],
      "metadata": {
        "id": "1qN0767xShZ8"
      },
      "execution_count": 4,
      "outputs": []
    },
    {
      "cell_type": "code",
      "source": [
        "typeof(myvar)\n",
        "#a type of number is a \"double\""
      ],
      "metadata": {
        "colab": {
          "base_uri": "https://localhost:8080/",
          "height": 34
        },
        "id": "ajYwrvtMSZzf",
        "outputId": "261d1e6e-61fa-491c-aa9e-24ca92b225a9"
      },
      "execution_count": 5,
      "outputs": [
        {
          "output_type": "display_data",
          "data": {
            "text/html": [
              "'double'"
            ],
            "text/markdown": "'double'",
            "text/latex": "'double'",
            "text/plain": [
              "[1] \"double\""
            ]
          },
          "metadata": {}
        }
      ]
    },
    {
      "cell_type": "code",
      "source": [
        "\"Sophie\" -> datascientist\n",
        "datascientist"
      ],
      "metadata": {
        "colab": {
          "base_uri": "https://localhost:8080/",
          "height": 34
        },
        "id": "jN4dgcRMS1IM",
        "outputId": "877a7ce5-ceae-4873-eb93-e05f6dc33437"
      },
      "execution_count": 6,
      "outputs": [
        {
          "output_type": "display_data",
          "data": {
            "text/html": [
              "'Sophie'"
            ],
            "text/markdown": "'Sophie'",
            "text/latex": "'Sophie'",
            "text/plain": [
              "[1] \"Sophie\""
            ]
          },
          "metadata": {}
        }
      ]
    },
    {
      "cell_type": "code",
      "source": [
        "myname <- c(\"Bob\", \"Dylan\")\n",
        "myname\n",
        "#what is being populated is to the left and the arrow is pointing from right to left"
      ],
      "metadata": {
        "colab": {
          "base_uri": "https://localhost:8080/",
          "height": 34
        },
        "id": "-TejmsGvTNOo",
        "outputId": "946c7ab6-589a-42e8-be32-aa57662acf95"
      },
      "execution_count": 11,
      "outputs": [
        {
          "output_type": "display_data",
          "data": {
            "text/html": [
              "<style>\n",
              ".list-inline {list-style: none; margin:0; padding: 0}\n",
              ".list-inline>li {display: inline-block}\n",
              ".list-inline>li:not(:last-child)::after {content: \"\\00b7\"; padding: 0 .5ex}\n",
              "</style>\n",
              "<ol class=list-inline><li>'Bob'</li><li>'Dylan'</li></ol>\n"
            ],
            "text/markdown": "1. 'Bob'\n2. 'Dylan'\n\n\n",
            "text/latex": "\\begin{enumerate*}\n\\item 'Bob'\n\\item 'Dylan'\n\\end{enumerate*}\n",
            "text/plain": [
              "[1] \"Bob\"   \"Dylan\""
            ]
          },
          "metadata": {}
        }
      ]
    },
    {
      "cell_type": "code",
      "source": [
        "x <- 10.5\n",
        "x"
      ],
      "metadata": {
        "colab": {
          "base_uri": "https://localhost:8080/",
          "height": 34
        },
        "id": "GEcyB4PUT_La",
        "outputId": "201fcd9f-374a-4493-9b00-9941f52977a7"
      },
      "execution_count": 12,
      "outputs": [
        {
          "output_type": "display_data",
          "data": {
            "text/html": [
              "10.5"
            ],
            "text/markdown": "10.5",
            "text/latex": "10.5",
            "text/plain": [
              "[1] 10.5"
            ]
          },
          "metadata": {}
        }
      ]
    },
    {
      "cell_type": "code",
      "source": [
        "class(x)\n",
        "#typeof returns what R considers the type\n",
        "#class returns what R considers the class"
      ],
      "metadata": {
        "colab": {
          "base_uri": "https://localhost:8080/",
          "height": 34
        },
        "id": "kca2DLAeUQjO",
        "outputId": "169b0214-587c-4e5b-ed45-25b579a8e0a2"
      },
      "execution_count": 13,
      "outputs": [
        {
          "output_type": "display_data",
          "data": {
            "text/html": [
              "'numeric'"
            ],
            "text/markdown": "'numeric'",
            "text/latex": "'numeric'",
            "text/plain": [
              "[1] \"numeric\""
            ]
          },
          "metadata": {}
        }
      ]
    },
    {
      "cell_type": "code",
      "source": [
        "y <- as.integer(3)\n",
        "y\n",
        "class(y)\n",
        "is.integer(y) #is y an integer? returns TRUE\n",
        "#boolean values in R\n",
        "#is test --> is.whatever"
      ],
      "metadata": {
        "colab": {
          "base_uri": "https://localhost:8080/",
          "height": 69
        },
        "id": "pODcggeSU8Co",
        "outputId": "d6a8dbf6-dc78-41cc-e97e-e1dbd47559da"
      },
      "execution_count": 16,
      "outputs": [
        {
          "output_type": "display_data",
          "data": {
            "text/html": [
              "3"
            ],
            "text/markdown": "3",
            "text/latex": "3",
            "text/plain": [
              "[1] 3"
            ]
          },
          "metadata": {}
        },
        {
          "output_type": "display_data",
          "data": {
            "text/html": [
              "'integer'"
            ],
            "text/markdown": "'integer'",
            "text/latex": "'integer'",
            "text/plain": [
              "[1] \"integer\""
            ]
          },
          "metadata": {}
        },
        {
          "output_type": "display_data",
          "data": {
            "text/html": [
              "TRUE"
            ],
            "text/markdown": "TRUE",
            "text/latex": "TRUE",
            "text/plain": [
              "[1] TRUE"
            ]
          },
          "metadata": {}
        }
      ]
    },
    {
      "cell_type": "code",
      "source": [
        "as.integer(3L)\n",
        "#will return a 3 because it can decipher the number in this phase however could not do \"as.integer(\"Joe\")\" because it is obviusly not a number"
      ],
      "metadata": {
        "colab": {
          "base_uri": "https://localhost:8080/",
          "height": 34
        },
        "id": "NQTdm2cKWIaz",
        "outputId": "618d34dc-9368-4eb7-b1a6-da407e33cbfb"
      },
      "execution_count": 17,
      "outputs": [
        {
          "output_type": "display_data",
          "data": {
            "text/html": [
              "3"
            ],
            "text/markdown": "3",
            "text/latex": "3",
            "text/plain": [
              "[1] 3"
            ]
          },
          "metadata": {}
        }
      ]
    },
    {
      "cell_type": "code",
      "source": [
        "as.integer(TRUE) #1\n",
        "as.integer(FALSE) #0"
      ],
      "metadata": {
        "colab": {
          "base_uri": "https://localhost:8080/",
          "height": 52
        },
        "id": "BGeb8uY2WcWg",
        "outputId": "3374a347-457e-4c85-882f-9761216c2dfc"
      },
      "execution_count": 18,
      "outputs": [
        {
          "output_type": "display_data",
          "data": {
            "text/html": [
              "1"
            ],
            "text/markdown": "1",
            "text/latex": "1",
            "text/plain": [
              "[1] 1"
            ]
          },
          "metadata": {}
        },
        {
          "output_type": "display_data",
          "data": {
            "text/html": [
              "0"
            ],
            "text/markdown": "0",
            "text/latex": "0",
            "text/plain": [
              "[1] 0"
            ]
          },
          "metadata": {}
        }
      ]
    }
  ]
}